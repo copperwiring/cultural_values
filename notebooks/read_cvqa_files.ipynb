{
 "cells": [
  {
   "cell_type": "code",
   "execution_count": 2,
   "metadata": {},
   "outputs": [],
   "source": [
    "import os\n",
    "import pandas as pd"
   ]
  },
  {
   "cell_type": "code",
   "execution_count": 3,
   "metadata": {},
   "outputs": [],
   "source": [
    "base_data_dir = \"/projects/belongielab/people/vsl333\"\n",
    "cvqa_dir = f\"{base_data_dir}/cvqa\"\n",
    "ds_dir = f\"{cvqa_dir}/ds\""
   ]
  },
  {
   "cell_type": "markdown",
   "metadata": {},
   "source": [
    "Read CVQA data"
   ]
  },
  {
   "cell_type": "code",
   "execution_count": 4,
   "metadata": {},
   "outputs": [],
   "source": [
    "metadata_file = os.path.join(cvqa_dir, 'metadata.csv')\n",
    "images_dir = os.path.join(cvqa_dir, 'images')"
   ]
  },
  {
   "cell_type": "code",
   "execution_count": 5,
   "metadata": {},
   "outputs": [
    {
     "data": {
      "text/html": [
       "<div>\n",
       "<style scoped>\n",
       "    .dataframe tbody tr th:only-of-type {\n",
       "        vertical-align: middle;\n",
       "    }\n",
       "\n",
       "    .dataframe tbody tr th {\n",
       "        vertical-align: top;\n",
       "    }\n",
       "\n",
       "    .dataframe thead th {\n",
       "        text-align: right;\n",
       "    }\n",
       "</style>\n",
       "<table border=\"1\" class=\"dataframe\">\n",
       "  <thead>\n",
       "    <tr style=\"text-align: right;\">\n",
       "      <th></th>\n",
       "      <th>ID</th>\n",
       "      <th>Subset</th>\n",
       "      <th>Question</th>\n",
       "      <th>Translated Question</th>\n",
       "      <th>Options</th>\n",
       "      <th>Translated Options</th>\n",
       "      <th>Label</th>\n",
       "      <th>Category</th>\n",
       "      <th>Image Type</th>\n",
       "      <th>Image Source</th>\n",
       "      <th>License</th>\n",
       "      <th>Image File Name</th>\n",
       "    </tr>\n",
       "  </thead>\n",
       "  <tbody>\n",
       "    <tr>\n",
       "      <th>0</th>\n",
       "      <td>5865780764275338482_0</td>\n",
       "      <td>('Igbo', 'Nigeria')</td>\n",
       "      <td>Kedụ onye nwe ụlọ ọrụ maka ụgbọ elu a?</td>\n",
       "      <td>Who is the owner of the company for this airpl...</td>\n",
       "      <td>['Chimamanda Ngozi Adiche', 'Aliko Dangote', '...</td>\n",
       "      <td>['Chimamanda Ngozi Adiche', 'Aliko Dangote', '...</td>\n",
       "      <td>-1</td>\n",
       "      <td>Vehicles and Transportation</td>\n",
       "      <td>External</td>\n",
       "      <td>https://commons.wikimedia.org/wiki/File:Air_Pe...</td>\n",
       "      <td>CC BY-SA 2.0</td>\n",
       "      <td>5865780764275338482_0.png</td>\n",
       "    </tr>\n",
       "    <tr>\n",
       "      <th>1</th>\n",
       "      <td>5865942534277063316_0</td>\n",
       "      <td>('Oromo', 'Ethiopia')</td>\n",
       "      <td>Nyaanni aadaa Oromoo kun maal jedhama?</td>\n",
       "      <td>What is this Oromo traditional dish called?</td>\n",
       "      <td>['Cuukkoo', 'Ancootee', 'Marqaa', 'Cumboo']</td>\n",
       "      <td>['Chuko', 'Anchote', 'Porridge', 'Chumbo']</td>\n",
       "      <td>-1</td>\n",
       "      <td>Cooking and food</td>\n",
       "      <td>Self</td>\n",
       "      <td>Self-research_only</td>\n",
       "      <td>CC BY-NC</td>\n",
       "      <td>5865942534277063316_0.png</td>\n",
       "    </tr>\n",
       "    <tr>\n",
       "      <th>2</th>\n",
       "      <td>5920593584278358540_1</td>\n",
       "      <td>('Hindi', 'India')</td>\n",
       "      <td>राजेंद्र प्रसाद का जन्म किस वर्ष में हुआ था?</td>\n",
       "      <td>In which year the individual shown in the imag...</td>\n",
       "      <td>['1884', '1886', '1885', '1887']</td>\n",
       "      <td>['1884', '1886', '1885', '1887']</td>\n",
       "      <td>-1</td>\n",
       "      <td>Public Figure and pop culture</td>\n",
       "      <td>External</td>\n",
       "      <td>https://commons.wikimedia.org/wiki/File:Rajend...</td>\n",
       "      <td>CC BY-SA 2.0</td>\n",
       "      <td>5920593584278358540_1.png</td>\n",
       "    </tr>\n",
       "    <tr>\n",
       "      <th>3</th>\n",
       "      <td>5865784464274975600_2</td>\n",
       "      <td>('Mongolian', 'Mongolia')</td>\n",
       "      <td>'Топ донж'  брэндын юуны брэнд вэ?</td>\n",
       "      <td>What brand is 'Top Donj'?</td>\n",
       "      <td>['Эртны эдлэлийн дэлгүүр', 'Гоо сайханы бүтээг...</td>\n",
       "      <td>['Antique shop', 'Cosmetics brand', 'Model age...</td>\n",
       "      <td>-1</td>\n",
       "      <td>Brands / products / companies</td>\n",
       "      <td>Self</td>\n",
       "      <td>Self-open</td>\n",
       "      <td>CC BY-SA</td>\n",
       "      <td>5865784464274975600_2.png</td>\n",
       "    </tr>\n",
       "    <tr>\n",
       "      <th>4</th>\n",
       "      <td>5920948914273396866_1</td>\n",
       "      <td>('Swahili', 'Kenya')</td>\n",
       "      <td>Katika eneo gani la Kenya mtu anayeonyeshwa kw...</td>\n",
       "      <td>In which region of Kenya is the person in the ...</td>\n",
       "      <td>['Naivasha', 'Kamba', 'Mombasa', 'Eldoret']</td>\n",
       "      <td>['Naivasha', 'Kamba', 'Mombasa', 'Eldoret']</td>\n",
       "      <td>-1</td>\n",
       "      <td>Public Figure and pop culture</td>\n",
       "      <td>External</td>\n",
       "      <td>https://upload.wikimedia.org/wikipedia/commons...</td>\n",
       "      <td>CC BY-SA 3.0</td>\n",
       "      <td>5920948914273396866_1.png</td>\n",
       "    </tr>\n",
       "  </tbody>\n",
       "</table>\n",
       "</div>"
      ],
      "text/plain": [
       "                      ID                     Subset  \\\n",
       "0  5865780764275338482_0        ('Igbo', 'Nigeria')   \n",
       "1  5865942534277063316_0      ('Oromo', 'Ethiopia')   \n",
       "2  5920593584278358540_1         ('Hindi', 'India')   \n",
       "3  5865784464274975600_2  ('Mongolian', 'Mongolia')   \n",
       "4  5920948914273396866_1       ('Swahili', 'Kenya')   \n",
       "\n",
       "                                            Question  \\\n",
       "0             Kedụ onye nwe ụlọ ọrụ maka ụgbọ elu a?   \n",
       "1             Nyaanni aadaa Oromoo kun maal jedhama?   \n",
       "2       राजेंद्र प्रसाद का जन्म किस वर्ष में हुआ था?   \n",
       "3                 'Топ донж'  брэндын юуны брэнд вэ?   \n",
       "4  Katika eneo gani la Kenya mtu anayeonyeshwa kw...   \n",
       "\n",
       "                                 Translated Question  \\\n",
       "0  Who is the owner of the company for this airpl...   \n",
       "1        What is this Oromo traditional dish called?   \n",
       "2  In which year the individual shown in the imag...   \n",
       "3                          What brand is 'Top Donj'?   \n",
       "4  In which region of Kenya is the person in the ...   \n",
       "\n",
       "                                             Options  \\\n",
       "0  ['Chimamanda Ngozi Adiche', 'Aliko Dangote', '...   \n",
       "1        ['Cuukkoo', 'Ancootee', 'Marqaa', 'Cumboo']   \n",
       "2                   ['1884', '1886', '1885', '1887']   \n",
       "3  ['Эртны эдлэлийн дэлгүүр', 'Гоо сайханы бүтээг...   \n",
       "4        ['Naivasha', 'Kamba', 'Mombasa', 'Eldoret']   \n",
       "\n",
       "                                  Translated Options  Label  \\\n",
       "0  ['Chimamanda Ngozi Adiche', 'Aliko Dangote', '...     -1   \n",
       "1         ['Chuko', 'Anchote', 'Porridge', 'Chumbo']     -1   \n",
       "2                   ['1884', '1886', '1885', '1887']     -1   \n",
       "3  ['Antique shop', 'Cosmetics brand', 'Model age...     -1   \n",
       "4        ['Naivasha', 'Kamba', 'Mombasa', 'Eldoret']     -1   \n",
       "\n",
       "                        Category Image Type  \\\n",
       "0    Vehicles and Transportation   External   \n",
       "1               Cooking and food       Self   \n",
       "2  Public Figure and pop culture   External   \n",
       "3  Brands / products / companies       Self   \n",
       "4  Public Figure and pop culture   External   \n",
       "\n",
       "                                        Image Source       License  \\\n",
       "0  https://commons.wikimedia.org/wiki/File:Air_Pe...  CC BY-SA 2.0   \n",
       "1                                 Self-research_only      CC BY-NC   \n",
       "2  https://commons.wikimedia.org/wiki/File:Rajend...  CC BY-SA 2.0   \n",
       "3                                          Self-open      CC BY-SA   \n",
       "4  https://upload.wikimedia.org/wikipedia/commons...  CC BY-SA 3.0   \n",
       "\n",
       "             Image File Name  \n",
       "0  5865780764275338482_0.png  \n",
       "1  5865942534277063316_0.png  \n",
       "2  5920593584278358540_1.png  \n",
       "3  5865784464274975600_2.png  \n",
       "4  5920948914273396866_1.png  "
      ]
     },
     "execution_count": 5,
     "metadata": {},
     "output_type": "execute_result"
    }
   ],
   "source": [
    "metadata_df = pd.read_csv(metadata_file)\n",
    "metadata_df.head()"
   ]
  },
  {
   "cell_type": "code",
   "execution_count": 6,
   "metadata": {},
   "outputs": [
    {
     "data": {
      "text/plain": [
       "Category\n",
       "Geography / buildings / landmarks    1855\n",
       "Cooking and food                     1834\n",
       "Traditions / art / history           1588\n",
       "Public Figure and pop culture        1172\n",
       "Objects / materials / clothing        794\n",
       "People and everyday life              777\n",
       "Plants and animal                     659\n",
       "Brands / products / companies         647\n",
       "Vehicles and Transportation           567\n",
       "Sports and recreation                 481\n",
       "Name: count, dtype: int64"
      ]
     },
     "execution_count": 6,
     "metadata": {},
     "output_type": "execute_result"
    }
   ],
   "source": [
    "metadata_df[\"Category\"].value_counts()"
   ]
  },
  {
   "cell_type": "code",
   "execution_count": 7,
   "metadata": {},
   "outputs": [
    {
     "data": {
      "text/html": [
       "<div>\n",
       "<style scoped>\n",
       "    .dataframe tbody tr th:only-of-type {\n",
       "        vertical-align: middle;\n",
       "    }\n",
       "\n",
       "    .dataframe tbody tr th {\n",
       "        vertical-align: top;\n",
       "    }\n",
       "\n",
       "    .dataframe thead th {\n",
       "        text-align: right;\n",
       "    }\n",
       "</style>\n",
       "<table border=\"1\" class=\"dataframe\">\n",
       "  <thead>\n",
       "    <tr style=\"text-align: right;\">\n",
       "      <th></th>\n",
       "      <th>ID</th>\n",
       "      <th>Subset</th>\n",
       "      <th>language</th>\n",
       "      <th>country</th>\n",
       "      <th>Question</th>\n",
       "      <th>Translated Question</th>\n",
       "      <th>Options</th>\n",
       "      <th>Translated Options</th>\n",
       "      <th>Label</th>\n",
       "      <th>Category</th>\n",
       "      <th>Image Type</th>\n",
       "      <th>Image Source</th>\n",
       "      <th>License</th>\n",
       "      <th>Image File Name</th>\n",
       "    </tr>\n",
       "  </thead>\n",
       "  <tbody>\n",
       "    <tr>\n",
       "      <th>0</th>\n",
       "      <td>5865780764275338482_0</td>\n",
       "      <td>('Igbo', 'Nigeria')</td>\n",
       "      <td>Igbo</td>\n",
       "      <td>Nigeria</td>\n",
       "      <td>Kedụ onye nwe ụlọ ọrụ maka ụgbọ elu a?</td>\n",
       "      <td>Who is the owner of the company for this airpl...</td>\n",
       "      <td>['Chimamanda Ngozi Adiche', 'Aliko Dangote', '...</td>\n",
       "      <td>['Chimamanda Ngozi Adiche', 'Aliko Dangote', '...</td>\n",
       "      <td>-1</td>\n",
       "      <td>Vehicles and Transportation</td>\n",
       "      <td>External</td>\n",
       "      <td>https://commons.wikimedia.org/wiki/File:Air_Pe...</td>\n",
       "      <td>CC BY-SA 2.0</td>\n",
       "      <td>5865780764275338482_0.png</td>\n",
       "    </tr>\n",
       "    <tr>\n",
       "      <th>1</th>\n",
       "      <td>5865942534277063316_0</td>\n",
       "      <td>('Oromo', 'Ethiopia')</td>\n",
       "      <td>Oromo</td>\n",
       "      <td>Ethiopia</td>\n",
       "      <td>Nyaanni aadaa Oromoo kun maal jedhama?</td>\n",
       "      <td>What is this Oromo traditional dish called?</td>\n",
       "      <td>['Cuukkoo', 'Ancootee', 'Marqaa', 'Cumboo']</td>\n",
       "      <td>['Chuko', 'Anchote', 'Porridge', 'Chumbo']</td>\n",
       "      <td>-1</td>\n",
       "      <td>Cooking and food</td>\n",
       "      <td>Self</td>\n",
       "      <td>Self-research_only</td>\n",
       "      <td>CC BY-NC</td>\n",
       "      <td>5865942534277063316_0.png</td>\n",
       "    </tr>\n",
       "    <tr>\n",
       "      <th>2</th>\n",
       "      <td>5920593584278358540_1</td>\n",
       "      <td>('Hindi', 'India')</td>\n",
       "      <td>Hindi</td>\n",
       "      <td>India</td>\n",
       "      <td>राजेंद्र प्रसाद का जन्म किस वर्ष में हुआ था?</td>\n",
       "      <td>In which year the individual shown in the imag...</td>\n",
       "      <td>['1884', '1886', '1885', '1887']</td>\n",
       "      <td>['1884', '1886', '1885', '1887']</td>\n",
       "      <td>-1</td>\n",
       "      <td>Public Figure and pop culture</td>\n",
       "      <td>External</td>\n",
       "      <td>https://commons.wikimedia.org/wiki/File:Rajend...</td>\n",
       "      <td>CC BY-SA 2.0</td>\n",
       "      <td>5920593584278358540_1.png</td>\n",
       "    </tr>\n",
       "    <tr>\n",
       "      <th>3</th>\n",
       "      <td>5865784464274975600_2</td>\n",
       "      <td>('Mongolian', 'Mongolia')</td>\n",
       "      <td>Mongolian</td>\n",
       "      <td>Mongolia</td>\n",
       "      <td>'Топ донж'  брэндын юуны брэнд вэ?</td>\n",
       "      <td>What brand is 'Top Donj'?</td>\n",
       "      <td>['Эртны эдлэлийн дэлгүүр', 'Гоо сайханы бүтээг...</td>\n",
       "      <td>['Antique shop', 'Cosmetics brand', 'Model age...</td>\n",
       "      <td>-1</td>\n",
       "      <td>Brands / products / companies</td>\n",
       "      <td>Self</td>\n",
       "      <td>Self-open</td>\n",
       "      <td>CC BY-SA</td>\n",
       "      <td>5865784464274975600_2.png</td>\n",
       "    </tr>\n",
       "    <tr>\n",
       "      <th>4</th>\n",
       "      <td>5920948914273396866_1</td>\n",
       "      <td>('Swahili', 'Kenya')</td>\n",
       "      <td>Swahili</td>\n",
       "      <td>Kenya</td>\n",
       "      <td>Katika eneo gani la Kenya mtu anayeonyeshwa kw...</td>\n",
       "      <td>In which region of Kenya is the person in the ...</td>\n",
       "      <td>['Naivasha', 'Kamba', 'Mombasa', 'Eldoret']</td>\n",
       "      <td>['Naivasha', 'Kamba', 'Mombasa', 'Eldoret']</td>\n",
       "      <td>-1</td>\n",
       "      <td>Public Figure and pop culture</td>\n",
       "      <td>External</td>\n",
       "      <td>https://upload.wikimedia.org/wikipedia/commons...</td>\n",
       "      <td>CC BY-SA 3.0</td>\n",
       "      <td>5920948914273396866_1.png</td>\n",
       "    </tr>\n",
       "  </tbody>\n",
       "</table>\n",
       "</div>"
      ],
      "text/plain": [
       "                      ID                     Subset   language   country  \\\n",
       "0  5865780764275338482_0        ('Igbo', 'Nigeria')       Igbo   Nigeria   \n",
       "1  5865942534277063316_0      ('Oromo', 'Ethiopia')      Oromo  Ethiopia   \n",
       "2  5920593584278358540_1         ('Hindi', 'India')      Hindi     India   \n",
       "3  5865784464274975600_2  ('Mongolian', 'Mongolia')  Mongolian  Mongolia   \n",
       "4  5920948914273396866_1       ('Swahili', 'Kenya')    Swahili     Kenya   \n",
       "\n",
       "                                            Question  \\\n",
       "0             Kedụ onye nwe ụlọ ọrụ maka ụgbọ elu a?   \n",
       "1             Nyaanni aadaa Oromoo kun maal jedhama?   \n",
       "2       राजेंद्र प्रसाद का जन्म किस वर्ष में हुआ था?   \n",
       "3                 'Топ донж'  брэндын юуны брэнд вэ?   \n",
       "4  Katika eneo gani la Kenya mtu anayeonyeshwa kw...   \n",
       "\n",
       "                                 Translated Question  \\\n",
       "0  Who is the owner of the company for this airpl...   \n",
       "1        What is this Oromo traditional dish called?   \n",
       "2  In which year the individual shown in the imag...   \n",
       "3                          What brand is 'Top Donj'?   \n",
       "4  In which region of Kenya is the person in the ...   \n",
       "\n",
       "                                             Options  \\\n",
       "0  ['Chimamanda Ngozi Adiche', 'Aliko Dangote', '...   \n",
       "1        ['Cuukkoo', 'Ancootee', 'Marqaa', 'Cumboo']   \n",
       "2                   ['1884', '1886', '1885', '1887']   \n",
       "3  ['Эртны эдлэлийн дэлгүүр', 'Гоо сайханы бүтээг...   \n",
       "4        ['Naivasha', 'Kamba', 'Mombasa', 'Eldoret']   \n",
       "\n",
       "                                  Translated Options  Label  \\\n",
       "0  ['Chimamanda Ngozi Adiche', 'Aliko Dangote', '...     -1   \n",
       "1         ['Chuko', 'Anchote', 'Porridge', 'Chumbo']     -1   \n",
       "2                   ['1884', '1886', '1885', '1887']     -1   \n",
       "3  ['Antique shop', 'Cosmetics brand', 'Model age...     -1   \n",
       "4        ['Naivasha', 'Kamba', 'Mombasa', 'Eldoret']     -1   \n",
       "\n",
       "                        Category Image Type  \\\n",
       "0    Vehicles and Transportation   External   \n",
       "1               Cooking and food       Self   \n",
       "2  Public Figure and pop culture   External   \n",
       "3  Brands / products / companies       Self   \n",
       "4  Public Figure and pop culture   External   \n",
       "\n",
       "                                        Image Source       License  \\\n",
       "0  https://commons.wikimedia.org/wiki/File:Air_Pe...  CC BY-SA 2.0   \n",
       "1                                 Self-research_only      CC BY-NC   \n",
       "2  https://commons.wikimedia.org/wiki/File:Rajend...  CC BY-SA 2.0   \n",
       "3                                          Self-open      CC BY-SA   \n",
       "4  https://upload.wikimedia.org/wikipedia/commons...  CC BY-SA 3.0   \n",
       "\n",
       "             Image File Name  \n",
       "0  5865780764275338482_0.png  \n",
       "1  5865942534277063316_0.png  \n",
       "2  5920593584278358540_1.png  \n",
       "3  5865784464274975600_2.png  \n",
       "4  5920948914273396866_1.png  "
      ]
     },
     "execution_count": 7,
     "metadata": {},
     "output_type": "execute_result"
    }
   ],
   "source": [
    "import ast\n",
    "\n",
    "metadata_updatedf = metadata_df.copy()\n",
    "# create anew coulumn \"country\" which is second element of \"Subset\" column\n",
    "metadata_updatedf.insert(metadata_updatedf.columns.get_loc(\"Subset\") + 1, \"country\", metadata_updatedf[\"Subset\"].apply(lambda x: ast.literal_eval(x)[1]))\n",
    "metadata_updatedf.insert(metadata_updatedf.columns.get_loc(\"Subset\") + 1, \"language\", metadata_updatedf[\"Subset\"].apply(lambda x: ast.literal_eval(x)[0]))\n",
    "metadata_updatedf.head()\n"
   ]
  },
  {
   "cell_type": "markdown",
   "metadata": {},
   "source": [
    "Plot 1 random image of each country"
   ]
  },
  {
   "cell_type": "code",
   "execution_count": 26,
   "metadata": {},
   "outputs": [],
   "source": [
    "\n",
    "# # For each country, choose one random row per \"Category\" column.\n",
    "# metadata_random = metadata_updatedf.groupby([\"Category\", \"country\"]).apply(lambda x: x.sample(1, random_state=1)).reset_index(drop=True)\n",
    "# metadata_random.head()"
   ]
  },
  {
   "cell_type": "markdown",
   "metadata": {},
   "source": [
    "Download the random samples of each country"
   ]
  },
  {
   "cell_type": "code",
   "execution_count": 8,
   "metadata": {},
   "outputs": [
    {
     "name": "stdout",
     "output_type": "stream",
     "text": [
      "Dir existed! Deleting /home/vsl333/cultural_values/dataset/cvqa\n",
      "Created /home/vsl333/cultural_values/dataset/cvqa/images\n"
     ]
    },
    {
     "name": "stderr",
     "output_type": "stream",
     "text": [
      "  0%|          | 0/30 [00:00<?, ?it/s]"
     ]
    },
    {
     "name": "stderr",
     "output_type": "stream",
     "text": [
      "  3%|▎         | 1/30 [00:03<01:31,  3.15s/it]"
     ]
    },
    {
     "name": "stdout",
     "output_type": "stream",
     "text": [
      "Finished copying images for Nigeria\n"
     ]
    },
    {
     "name": "stderr",
     "output_type": "stream",
     "text": [
      "  7%|▋         | 2/30 [00:18<04:50, 10.37s/it]"
     ]
    },
    {
     "name": "stdout",
     "output_type": "stream",
     "text": [
      "Finished copying images for Ethiopia\n"
     ]
    },
    {
     "name": "stderr",
     "output_type": "stream",
     "text": [
      " 10%|█         | 3/30 [01:26<16:23, 36.43s/it]"
     ]
    },
    {
     "name": "stdout",
     "output_type": "stream",
     "text": [
      "Finished copying images for India\n"
     ]
    },
    {
     "name": "stderr",
     "output_type": "stream",
     "text": [
      " 13%|█▎        | 4/30 [01:34<10:56, 25.25s/it]"
     ]
    },
    {
     "name": "stdout",
     "output_type": "stream",
     "text": [
      "Finished copying images for Mongolia\n"
     ]
    },
    {
     "name": "stderr",
     "output_type": "stream",
     "text": [
      " 17%|█▋        | 5/30 [01:39<07:29, 17.97s/it]"
     ]
    },
    {
     "name": "stdout",
     "output_type": "stream",
     "text": [
      "Finished copying images for Kenya\n"
     ]
    },
    {
     "name": "stderr",
     "output_type": "stream",
     "text": [
      " 20%|██        | 6/30 [01:45<05:39, 14.13s/it]"
     ]
    },
    {
     "name": "stdout",
     "output_type": "stream",
     "text": [
      "Finished copying images for Uruguay\n"
     ]
    },
    {
     "name": "stderr",
     "output_type": "stream",
     "text": [
      " 23%|██▎       | 7/30 [01:54<04:45, 12.39s/it]"
     ]
    },
    {
     "name": "stdout",
     "output_type": "stream",
     "text": [
      "Finished copying images for Malaysia\n"
     ]
    },
    {
     "name": "stderr",
     "output_type": "stream",
     "text": [
      " 27%|██▋       | 8/30 [02:06<04:29, 12.26s/it]"
     ]
    },
    {
     "name": "stdout",
     "output_type": "stream",
     "text": [
      "Finished copying images for South Korea\n"
     ]
    },
    {
     "name": "stderr",
     "output_type": "stream",
     "text": [
      " 30%|███       | 9/30 [02:12<03:34, 10.20s/it]"
     ]
    },
    {
     "name": "stdout",
     "output_type": "stream",
     "text": [
      "Finished copying images for Russia\n"
     ]
    },
    {
     "name": "stderr",
     "output_type": "stream",
     "text": [
      " 33%|███▎      | 10/30 [02:26<03:45, 11.27s/it]"
     ]
    },
    {
     "name": "stdout",
     "output_type": "stream",
     "text": [
      "Finished copying images for Ecuador\n"
     ]
    },
    {
     "name": "stderr",
     "output_type": "stream",
     "text": [
      " 37%|███▋      | 11/30 [03:22<07:59, 25.24s/it]"
     ]
    },
    {
     "name": "stdout",
     "output_type": "stream",
     "text": [
      "Finished copying images for Indonesia\n"
     ]
    },
    {
     "name": "stderr",
     "output_type": "stream",
     "text": [
      " 40%|████      | 12/30 [03:32<06:07, 20.44s/it]"
     ]
    },
    {
     "name": "stdout",
     "output_type": "stream",
     "text": [
      "Finished copying images for Sri_Lanka\n"
     ]
    },
    {
     "name": "stderr",
     "output_type": "stream",
     "text": [
      " 43%|████▎     | 13/30 [03:44<05:03, 17.87s/it]"
     ]
    },
    {
     "name": "stdout",
     "output_type": "stream",
     "text": [
      "Finished copying images for Singapore\n"
     ]
    },
    {
     "name": "stderr",
     "output_type": "stream",
     "text": [
      " 47%|████▋     | 14/30 [03:56<04:19, 16.19s/it]"
     ]
    },
    {
     "name": "stdout",
     "output_type": "stream",
     "text": [
      "Finished copying images for France\n"
     ]
    },
    {
     "name": "stderr",
     "output_type": "stream",
     "text": [
      " 50%|█████     | 15/30 [04:02<03:17, 13.18s/it]"
     ]
    },
    {
     "name": "stdout",
     "output_type": "stream",
     "text": [
      "Finished copying images for Japan\n"
     ]
    },
    {
     "name": "stderr",
     "output_type": "stream",
     "text": [
      " 53%|█████▎    | 16/30 [04:26<03:47, 16.22s/it]"
     ]
    },
    {
     "name": "stdout",
     "output_type": "stream",
     "text": [
      "Finished copying images for Romania\n"
     ]
    },
    {
     "name": "stderr",
     "output_type": "stream",
     "text": [
      " 57%|█████▋    | 17/30 [04:43<03:34, 16.48s/it]"
     ]
    },
    {
     "name": "stdout",
     "output_type": "stream",
     "text": [
      "Finished copying images for Brazil\n"
     ]
    },
    {
     "name": "stderr",
     "output_type": "stream",
     "text": [
      " 60%|██████    | 18/30 [04:54<02:57, 14.79s/it]"
     ]
    },
    {
     "name": "stdout",
     "output_type": "stream",
     "text": [
      "Finished copying images for Norway\n"
     ]
    },
    {
     "name": "stderr",
     "output_type": "stream",
     "text": [
      " 63%|██████▎   | 19/30 [05:05<02:31, 13.80s/it]"
     ]
    },
    {
     "name": "stdout",
     "output_type": "stream",
     "text": [
      "Finished copying images for Ireland\n"
     ]
    },
    {
     "name": "stderr",
     "output_type": "stream",
     "text": [
      " 67%|██████▋   | 20/30 [05:23<02:30, 15.05s/it]"
     ]
    },
    {
     "name": "stdout",
     "output_type": "stream",
     "text": [
      "Finished copying images for Colombia\n"
     ]
    },
    {
     "name": "stderr",
     "output_type": "stream",
     "text": [
      " 70%|███████   | 21/30 [05:39<02:19, 15.47s/it]"
     ]
    },
    {
     "name": "stdout",
     "output_type": "stream",
     "text": [
      "Finished copying images for Rwanda\n"
     ]
    },
    {
     "name": "stderr",
     "output_type": "stream",
     "text": [
      " 73%|███████▎  | 22/30 [05:51<01:53, 14.14s/it]"
     ]
    },
    {
     "name": "stdout",
     "output_type": "stream",
     "text": [
      "Finished copying images for Pakistan\n"
     ]
    },
    {
     "name": "stderr",
     "output_type": "stream",
     "text": [
      " 77%|███████▋  | 23/30 [05:59<01:27, 12.44s/it]"
     ]
    },
    {
     "name": "stdout",
     "output_type": "stream",
     "text": [
      "Finished copying images for Egypt\n"
     ]
    },
    {
     "name": "stderr",
     "output_type": "stream",
     "text": [
      " 80%|████████  | 24/30 [06:08<01:08, 11.49s/it]"
     ]
    },
    {
     "name": "stdout",
     "output_type": "stream",
     "text": [
      "Finished copying images for China\n"
     ]
    },
    {
     "name": "stderr",
     "output_type": "stream",
     "text": [
      " 83%|████████▎ | 25/30 [06:22<01:00, 12.15s/it]"
     ]
    },
    {
     "name": "stdout",
     "output_type": "stream",
     "text": [
      "Finished copying images for Mexico\n"
     ]
    },
    {
     "name": "stderr",
     "output_type": "stream",
     "text": [
      " 87%|████████▋ | 26/30 [06:27<00:39,  9.92s/it]"
     ]
    },
    {
     "name": "stdout",
     "output_type": "stream",
     "text": [
      "Finished copying images for Philippines\n"
     ]
    },
    {
     "name": "stderr",
     "output_type": "stream",
     "text": [
      " 90%|█████████ | 27/30 [06:36<00:28,  9.60s/it]"
     ]
    },
    {
     "name": "stdout",
     "output_type": "stream",
     "text": [
      "Finished copying images for Chile\n"
     ]
    },
    {
     "name": "stderr",
     "output_type": "stream",
     "text": [
      " 93%|█████████▎| 28/30 [06:51<00:22, 11.44s/it]"
     ]
    },
    {
     "name": "stdout",
     "output_type": "stream",
     "text": [
      "Finished copying images for Bulgaria\n"
     ]
    },
    {
     "name": "stderr",
     "output_type": "stream",
     "text": [
      " 97%|█████████▋| 29/30 [07:03<00:11, 11.60s/it]"
     ]
    },
    {
     "name": "stdout",
     "output_type": "stream",
     "text": [
      "Finished copying images for Argentina\n"
     ]
    },
    {
     "name": "stderr",
     "output_type": "stream",
     "text": [
      "100%|██████████| 30/30 [07:19<00:00, 14.65s/it]"
     ]
    },
    {
     "name": "stdout",
     "output_type": "stream",
     "text": [
      "Finished copying images for Spain\n",
      "Saved metadata.csv to /home/vsl333/cultural_values/dataset/cvqa/metadata.csv\n"
     ]
    },
    {
     "name": "stderr",
     "output_type": "stream",
     "text": [
      "\n"
     ]
    }
   ],
   "source": [
    "# # for each country in df, copy image from images_dir to current directory under country name folder\n",
    "import shutil, os\n",
    "from pathlib import Path\n",
    "from tqdm import tqdm\n",
    "\n",
    "src_dir = Path(\"/projects/belongielab/people/vsl333/cvqa/images\")\n",
    "img_copy_dir = Path(\"/home/vsl333/cultural_values/dataset/cvqa/images\")\n",
    "# delete if img_copy_dir exists\n",
    "if os.path.exists(img_copy_dir.parent):\n",
    "    print(f\"Dir existed! Deleting {img_copy_dir.parent}\")\n",
    "    shutil.rmtree(img_copy_dir.parent)\n",
    "os.makedirs(img_copy_dir, exist_ok=True)\n",
    "print(f\"Created {img_copy_dir}\")\n",
    "\n",
    "img_data = []\n",
    "for country in tqdm(metadata_updatedf[\"country\"].unique()):\n",
    "    country_df = metadata_updatedf[metadata_updatedf[\"country\"] == country]\n",
    "    # create country folder in img_copy_dir\n",
    "    country_dir = img_copy_dir / country\n",
    "    os.makedirs(country_dir, exist_ok=True)\n",
    "    # copy all images from src_dir to country_dir\n",
    "    for idx, row in country_df.iterrows():\n",
    "        src_img_path = src_dir / row[\"Image File Name\"]\n",
    "        dest_img_path = country_dir / row[\"Image File Name\"]\n",
    "        shutil.copy(src_img_path, dest_img_path)\n",
    "        img_data.append([row[\"ID\"], row[\"language\"], row[\"country\"], row[\"Category\"], row['Image Source'], row[\"Image File Name\"], dest_img_path])\n",
    "    print(f\"Finished copying images for {country}\")\n",
    "\n",
    "# create a csv file with \"Id\", \"language\", \"country\", \"Category\", \"Image File Name\" columns\n",
    "data_df= pd.DataFrame(img_data, columns=[\"id\", \"language\", \"country\", \"category\", \"og_image_source\", \"og_image_file_name\", \"image_path\"])\n",
    "metadata_csv_file = img_copy_dir.parent / \"metadata.csv\"\n",
    "data_df.to_csv(metadata_csv_file, index=False)\n",
    "print(f\"Saved metadata.csv to {metadata_csv_file}\")"
   ]
  },
  {
   "cell_type": "markdown",
   "metadata": {},
   "source": [
    "Plot some images"
   ]
  },
  {
   "cell_type": "code",
   "execution_count": 28,
   "metadata": {},
   "outputs": [],
   "source": [
    "# # Plot images in img_copy_dir/country/category. Choose any two random countries\n",
    "# import random\n",
    "# import matplotlib.pyplot as plt\n",
    "# import matplotlib.image as mpimg\n",
    "\n",
    "# country_list = metadata_random[\"country\"].unique()\n",
    "# random_countries = random.sample(list(country_list), 2)\n",
    "# print(random_countries)\n",
    "\n",
    "# fig, ax = plt.subplots(2, 9, figsize=(25, 5))\n",
    "# for i, country in enumerate(random_countries):\n",
    "#     for j, category in enumerate(metadata_random[\"Category\"].unique()):\n",
    "#         if j >= 9:  # Ensure we don't exceed the number of subplots\n",
    "#             break\n",
    "#         img_file = os.path.join(img_copy_dir, f\"{country}_{category}_{metadata_random[metadata_random['country'] == country][metadata_random['Category'] == category]['Image File Name'].values[0]}\")\n",
    "#         img = mpimg.imread(img_file)\n",
    "#         ax[i, j].imshow(img)\n",
    "#         ax[i, j].set_title(f\"{country} - {category}\", fontsize=7)\n",
    "#         ax[i, j].axis(\"off\")\n"
   ]
  },
  {
   "cell_type": "code",
   "execution_count": 34,
   "metadata": {},
   "outputs": [
    {
     "name": "stdout",
     "output_type": "stream",
     "text": [
      "(1160, 12)\n"
     ]
    },
    {
     "data": {
      "text/html": [
       "<div>\n",
       "<style scoped>\n",
       "    .dataframe tbody tr th:only-of-type {\n",
       "        vertical-align: middle;\n",
       "    }\n",
       "\n",
       "    .dataframe tbody tr th {\n",
       "        vertical-align: top;\n",
       "    }\n",
       "\n",
       "    .dataframe thead th {\n",
       "        text-align: right;\n",
       "    }\n",
       "</style>\n",
       "<table border=\"1\" class=\"dataframe\">\n",
       "  <thead>\n",
       "    <tr style=\"text-align: right;\">\n",
       "      <th></th>\n",
       "      <th>id</th>\n",
       "      <th>image_path</th>\n",
       "      <th>country</th>\n",
       "      <th>question_text</th>\n",
       "      <th>country_prompt</th>\n",
       "      <th>generic_prompt</th>\n",
       "      <th>option_labels</th>\n",
       "      <th>full_options</th>\n",
       "      <th>selection_answers</th>\n",
       "      <th>image_code</th>\n",
       "      <th>category</th>\n",
       "      <th>language</th>\n",
       "    </tr>\n",
       "  </thead>\n",
       "  <tbody>\n",
       "    <tr>\n",
       "      <th>0</th>\n",
       "      <td>5865940604277681528_1</td>\n",
       "      <td>/home/vsl333/cultural_values/cvqa_chosen/image...</td>\n",
       "      <td>Spain</td>\n",
       "      <td>In your view, how often do the following thing...</td>\n",
       "      <td>How would someone from Spain answer the follow...</td>\n",
       "      <td>Look the the image and try to identify the cou...</td>\n",
       "      <td>['A', 'B', 'C', 'D', 'E', 'F', 'G']</td>\n",
       "      <td>(A) Very often, (B) Fairly often, (C) Not ofte...</td>\n",
       "      <td>[3.5, 11.7, 17.6, 55.7, 10.9, 0.6, 0.0]</td>\n",
       "      <td>cvqa</td>\n",
       "      <td>Brands / products / companies</td>\n",
       "      <td>Spanish</td>\n",
       "    </tr>\n",
       "    <tr>\n",
       "      <th>1</th>\n",
       "      <td>5865940584278053279_0</td>\n",
       "      <td>/home/vsl333/cultural_values/cvqa_chosen/image...</td>\n",
       "      <td>Spain</td>\n",
       "      <td>Please tell me for each of the following state...</td>\n",
       "      <td>How would someone from Spain answer the follow...</td>\n",
       "      <td>Look the the image and try to identify the cou...</td>\n",
       "      <td>['A', 'B', 'C', 'D', 'E', 'F', 'G', 'H', 'I', ...</td>\n",
       "      <td>(A) Never justifiable, (B) 2, (C) 3, (D) 4, (E...</td>\n",
       "      <td>[27.9, 8.4, 8.4, 6.2, 13.4, 9.2, 4.2, 7.2, 4.4...</td>\n",
       "      <td>cvqa</td>\n",
       "      <td>Geography / buildings / landmarks</td>\n",
       "      <td>Spanish</td>\n",
       "    </tr>\n",
       "    <tr>\n",
       "      <th>2</th>\n",
       "      <td>5865940594274969091_0</td>\n",
       "      <td>/home/vsl333/cultural_values/cvqa_chosen/image...</td>\n",
       "      <td>Spain</td>\n",
       "      <td>Please tell me for each of the following state...</td>\n",
       "      <td>How would someone from Spain answer the follow...</td>\n",
       "      <td>Look the the image and try to identify the cou...</td>\n",
       "      <td>['A', 'B', 'C', 'D', 'E', 'F', 'G', 'H', 'I', ...</td>\n",
       "      <td>(A) Never justifiable, (B) 2, (C) 3, (D) 4, (E...</td>\n",
       "      <td>[27.9, 8.4, 8.4, 6.2, 13.4, 9.2, 4.2, 7.2, 4.4...</td>\n",
       "      <td>cvqa</td>\n",
       "      <td>People and everyday life</td>\n",
       "      <td>Spanish</td>\n",
       "    </tr>\n",
       "    <tr>\n",
       "      <th>3</th>\n",
       "      <td>5865940574278282102_0</td>\n",
       "      <td>/home/vsl333/cultural_values/cvqa_chosen/image...</td>\n",
       "      <td>Spain</td>\n",
       "      <td>Please tell me for each of the following state...</td>\n",
       "      <td>How would someone from Spain answer the follow...</td>\n",
       "      <td>Look the the image and try to identify the cou...</td>\n",
       "      <td>['A', 'B', 'C', 'D', 'E', 'F', 'G', 'H', 'I', ...</td>\n",
       "      <td>(A) Never justifiable, (B) 2, (C) 3, (D) 4, (E...</td>\n",
       "      <td>[27.9, 8.4, 8.4, 6.2, 13.4, 9.2, 4.2, 7.2, 4.4...</td>\n",
       "      <td>cvqa</td>\n",
       "      <td>Plants and animal</td>\n",
       "      <td>Spanish</td>\n",
       "    </tr>\n",
       "    <tr>\n",
       "      <th>4</th>\n",
       "      <td>5865940594272201960_0</td>\n",
       "      <td>/home/vsl333/cultural_values/cvqa_chosen/image...</td>\n",
       "      <td>Spain</td>\n",
       "      <td>Please tell me for each of the following state...</td>\n",
       "      <td>How would someone from Spain answer the follow...</td>\n",
       "      <td>Look the the image and try to identify the cou...</td>\n",
       "      <td>['A', 'B', 'C', 'D', 'E', 'F', 'G', 'H', 'I', ...</td>\n",
       "      <td>(A) Never justifiable, (B) 2, (C) 3, (D) 4, (E...</td>\n",
       "      <td>[27.9, 8.4, 8.4, 6.2, 13.4, 9.2, 4.2, 7.2, 4.4...</td>\n",
       "      <td>cvqa</td>\n",
       "      <td>Public Figure and pop culture</td>\n",
       "      <td>Spanish</td>\n",
       "    </tr>\n",
       "  </tbody>\n",
       "</table>\n",
       "</div>"
      ],
      "text/plain": [
       "                      id                                         image_path  \\\n",
       "0  5865940604277681528_1  /home/vsl333/cultural_values/cvqa_chosen/image...   \n",
       "1  5865940584278053279_0  /home/vsl333/cultural_values/cvqa_chosen/image...   \n",
       "2  5865940594274969091_0  /home/vsl333/cultural_values/cvqa_chosen/image...   \n",
       "3  5865940574278282102_0  /home/vsl333/cultural_values/cvqa_chosen/image...   \n",
       "4  5865940594272201960_0  /home/vsl333/cultural_values/cvqa_chosen/image...   \n",
       "\n",
       "  country                                      question_text  \\\n",
       "0   Spain  In your view, how often do the following thing...   \n",
       "1   Spain  Please tell me for each of the following state...   \n",
       "2   Spain  Please tell me for each of the following state...   \n",
       "3   Spain  Please tell me for each of the following state...   \n",
       "4   Spain  Please tell me for each of the following state...   \n",
       "\n",
       "                                      country_prompt  \\\n",
       "0  How would someone from Spain answer the follow...   \n",
       "1  How would someone from Spain answer the follow...   \n",
       "2  How would someone from Spain answer the follow...   \n",
       "3  How would someone from Spain answer the follow...   \n",
       "4  How would someone from Spain answer the follow...   \n",
       "\n",
       "                                      generic_prompt  \\\n",
       "0  Look the the image and try to identify the cou...   \n",
       "1  Look the the image and try to identify the cou...   \n",
       "2  Look the the image and try to identify the cou...   \n",
       "3  Look the the image and try to identify the cou...   \n",
       "4  Look the the image and try to identify the cou...   \n",
       "\n",
       "                                       option_labels  \\\n",
       "0                ['A', 'B', 'C', 'D', 'E', 'F', 'G']   \n",
       "1  ['A', 'B', 'C', 'D', 'E', 'F', 'G', 'H', 'I', ...   \n",
       "2  ['A', 'B', 'C', 'D', 'E', 'F', 'G', 'H', 'I', ...   \n",
       "3  ['A', 'B', 'C', 'D', 'E', 'F', 'G', 'H', 'I', ...   \n",
       "4  ['A', 'B', 'C', 'D', 'E', 'F', 'G', 'H', 'I', ...   \n",
       "\n",
       "                                        full_options  \\\n",
       "0  (A) Very often, (B) Fairly often, (C) Not ofte...   \n",
       "1  (A) Never justifiable, (B) 2, (C) 3, (D) 4, (E...   \n",
       "2  (A) Never justifiable, (B) 2, (C) 3, (D) 4, (E...   \n",
       "3  (A) Never justifiable, (B) 2, (C) 3, (D) 4, (E...   \n",
       "4  (A) Never justifiable, (B) 2, (C) 3, (D) 4, (E...   \n",
       "\n",
       "                                   selection_answers image_code  \\\n",
       "0            [3.5, 11.7, 17.6, 55.7, 10.9, 0.6, 0.0]       cvqa   \n",
       "1  [27.9, 8.4, 8.4, 6.2, 13.4, 9.2, 4.2, 7.2, 4.4...       cvqa   \n",
       "2  [27.9, 8.4, 8.4, 6.2, 13.4, 9.2, 4.2, 7.2, 4.4...       cvqa   \n",
       "3  [27.9, 8.4, 8.4, 6.2, 13.4, 9.2, 4.2, 7.2, 4.4...       cvqa   \n",
       "4  [27.9, 8.4, 8.4, 6.2, 13.4, 9.2, 4.2, 7.2, 4.4...       cvqa   \n",
       "\n",
       "                            category language  \n",
       "0      Brands / products / companies  Spanish  \n",
       "1  Geography / buildings / landmarks  Spanish  \n",
       "2           People and everyday life  Spanish  \n",
       "3                  Plants and animal  Spanish  \n",
       "4      Public Figure and pop culture  Spanish  "
      ]
     },
     "execution_count": 34,
     "metadata": {},
     "output_type": "execute_result"
    }
   ],
   "source": [
    "# import pandas as pd\n",
    "# sample_f = \"../created_csv_data/cvqa_Spain.csv\"\n",
    "# sample_df = pd.read_csv(sample_f)\n",
    "# print(sample_df.shape)\n",
    "# sample_df.head()\n"
   ]
  },
  {
   "cell_type": "markdown",
   "metadata": {},
   "source": [
    "Plot these images"
   ]
  },
  {
   "cell_type": "code",
   "execution_count": 32,
   "metadata": {},
   "outputs": [],
   "source": [
    "# image_file_names = [\"5920593594279170230_2.png\", \"5920943064271671717_1.png\", \"5920593844271777115_1.png\"]\n",
    "# new_filtered_df = filtered_df[filtered_df[\"Image File Name\"].isin(image_file_names)]\n",
    "# new_filtered_df"
   ]
  },
  {
   "cell_type": "code",
   "execution_count": null,
   "metadata": {},
   "outputs": [],
   "source": []
  }
 ],
 "metadata": {
  "kernelspec": {
   "display_name": "culture-values",
   "language": "python",
   "name": "python3"
  },
  "language_info": {
   "codemirror_mode": {
    "name": "ipython",
    "version": 3
   },
   "file_extension": ".py",
   "mimetype": "text/x-python",
   "name": "python",
   "nbconvert_exporter": "python",
   "pygments_lexer": "ipython3",
   "version": "3.9.9"
  }
 },
 "nbformat": 4,
 "nbformat_minor": 2
}
