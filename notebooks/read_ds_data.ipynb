{
 "cells": [
  {
   "cell_type": "code",
   "execution_count": 41,
   "metadata": {},
   "outputs": [],
   "source": [
    "import os\n",
    "import pandas as pd"
   ]
  },
  {
   "cell_type": "markdown",
   "metadata": {},
   "source": [
    "### Read OG Dollarstreet Metadata"
   ]
  },
  {
   "cell_type": "code",
   "execution_count": 81,
   "metadata": {},
   "outputs": [
    {
     "name": "stdout",
     "output_type": "stream",
     "text": [
      "Index(['id', 'country.name', 'country.id', 'region.id', 'type', 'imageRelPath',\n",
      "       'topics', 'place', 'income'],\n",
      "      dtype='object')\n",
      "(38479, 9)\n"
     ]
    },
    {
     "data": {
      "text/html": [
       "<div>\n",
       "<style scoped>\n",
       "    .dataframe tbody tr th:only-of-type {\n",
       "        vertical-align: middle;\n",
       "    }\n",
       "\n",
       "    .dataframe tbody tr th {\n",
       "        vertical-align: top;\n",
       "    }\n",
       "\n",
       "    .dataframe thead th {\n",
       "        text-align: right;\n",
       "    }\n",
       "</style>\n",
       "<table border=\"1\" class=\"dataframe\">\n",
       "  <thead>\n",
       "    <tr style=\"text-align: right;\">\n",
       "      <th></th>\n",
       "      <th>id</th>\n",
       "      <th>country.name</th>\n",
       "      <th>country.id</th>\n",
       "      <th>region.id</th>\n",
       "      <th>type</th>\n",
       "      <th>imageRelPath</th>\n",
       "      <th>topics</th>\n",
       "      <th>place</th>\n",
       "      <th>income</th>\n",
       "    </tr>\n",
       "  </thead>\n",
       "  <tbody>\n",
       "    <tr>\n",
       "      <th>0</th>\n",
       "      <td>5d4be6cecf0b3a0f3f344586</td>\n",
       "      <td>Burundi</td>\n",
       "      <td>bi</td>\n",
       "      <td>af</td>\n",
       "      <td>image</td>\n",
       "      <td>assets/5d4be6cecf0b3a0f3f344586/5d4be6cecf0b3a...</td>\n",
       "      <td>icons</td>\n",
       "      <td>butoyi</td>\n",
       "      <td>26.994581</td>\n",
       "    </tr>\n",
       "    <tr>\n",
       "      <th>1</th>\n",
       "      <td>5d4bf31ccf0b3a0f3f359814</td>\n",
       "      <td>Burundi</td>\n",
       "      <td>bi</td>\n",
       "      <td>af</td>\n",
       "      <td>image</td>\n",
       "      <td>assets/5d4bf31ccf0b3a0f3f359814/5d4bf31ccf0b3a...</td>\n",
       "      <td>Family snapshots</td>\n",
       "      <td>butoyi</td>\n",
       "      <td>26.994581</td>\n",
       "    </tr>\n",
       "    <tr>\n",
       "      <th>2</th>\n",
       "      <td>5d4bf31ccf0b3a0f3f35982a</td>\n",
       "      <td>Burundi</td>\n",
       "      <td>bi</td>\n",
       "      <td>af</td>\n",
       "      <td>image</td>\n",
       "      <td>assets/5d4bf31ccf0b3a0f3f35982a/5d4bf31ccf0b3a...</td>\n",
       "      <td>Cutlery</td>\n",
       "      <td>butoyi</td>\n",
       "      <td>26.994581</td>\n",
       "    </tr>\n",
       "    <tr>\n",
       "      <th>3</th>\n",
       "      <td>5d4bf31ccf0b3a0f3f35982e</td>\n",
       "      <td>Burundi</td>\n",
       "      <td>bi</td>\n",
       "      <td>af</td>\n",
       "      <td>image</td>\n",
       "      <td>assets/5d4bf31ccf0b3a0f3f35982e/5d4bf31ccf0b3a...</td>\n",
       "      <td>Family</td>\n",
       "      <td>butoyi</td>\n",
       "      <td>26.994581</td>\n",
       "    </tr>\n",
       "    <tr>\n",
       "      <th>4</th>\n",
       "      <td>5d4bf31ccf0b3a0f3f359830</td>\n",
       "      <td>Burundi</td>\n",
       "      <td>bi</td>\n",
       "      <td>af</td>\n",
       "      <td>image</td>\n",
       "      <td>assets/5d4bf31ccf0b3a0f3f359830/5d4bf31ccf0b3a...</td>\n",
       "      <td>Place where eating dinner</td>\n",
       "      <td>butoyi</td>\n",
       "      <td>26.994581</td>\n",
       "    </tr>\n",
       "  </tbody>\n",
       "</table>\n",
       "</div>"
      ],
      "text/plain": [
       "                         id country.name country.id region.id   type  \\\n",
       "0  5d4be6cecf0b3a0f3f344586      Burundi         bi        af  image   \n",
       "1  5d4bf31ccf0b3a0f3f359814      Burundi         bi        af  image   \n",
       "2  5d4bf31ccf0b3a0f3f35982a      Burundi         bi        af  image   \n",
       "3  5d4bf31ccf0b3a0f3f35982e      Burundi         bi        af  image   \n",
       "4  5d4bf31ccf0b3a0f3f359830      Burundi         bi        af  image   \n",
       "\n",
       "                                        imageRelPath  \\\n",
       "0  assets/5d4be6cecf0b3a0f3f344586/5d4be6cecf0b3a...   \n",
       "1  assets/5d4bf31ccf0b3a0f3f359814/5d4bf31ccf0b3a...   \n",
       "2  assets/5d4bf31ccf0b3a0f3f35982a/5d4bf31ccf0b3a...   \n",
       "3  assets/5d4bf31ccf0b3a0f3f35982e/5d4bf31ccf0b3a...   \n",
       "4  assets/5d4bf31ccf0b3a0f3f359830/5d4bf31ccf0b3a...   \n",
       "\n",
       "                      topics   place     income  \n",
       "0                      icons  butoyi  26.994581  \n",
       "1           Family snapshots  butoyi  26.994581  \n",
       "2                    Cutlery  butoyi  26.994581  \n",
       "3                     Family  butoyi  26.994581  \n",
       "4  Place where eating dinner  butoyi  26.994581  "
      ]
     },
     "execution_count": 81,
     "metadata": {},
     "output_type": "execute_result"
    }
   ],
   "source": [
    "ds_data = \"/projects/belongielab/people/vsl333/ds/dollarstreet/images_v2.csv\"\n",
    "ds_data = pd.read_csv(ds_data)\n",
    "print(ds_data.columns)\n",
    "print(ds_data.shape)\n",
    "ds_data.head()"
   ]
  },
  {
   "cell_type": "markdown",
   "metadata": {},
   "source": [
    "### Filter Family, Family Snapshot Data"
   ]
  },
  {
   "cell_type": "code",
   "execution_count": 43,
   "metadata": {},
   "outputs": [
    {
     "name": "stdout",
     "output_type": "stream",
     "text": [
      "(567, 9)\n"
     ]
    },
    {
     "data": {
      "text/html": [
       "<div>\n",
       "<style scoped>\n",
       "    .dataframe tbody tr th:only-of-type {\n",
       "        vertical-align: middle;\n",
       "    }\n",
       "\n",
       "    .dataframe tbody tr th {\n",
       "        vertical-align: top;\n",
       "    }\n",
       "\n",
       "    .dataframe thead th {\n",
       "        text-align: right;\n",
       "    }\n",
       "</style>\n",
       "<table border=\"1\" class=\"dataframe\">\n",
       "  <thead>\n",
       "    <tr style=\"text-align: right;\">\n",
       "      <th></th>\n",
       "      <th>id</th>\n",
       "      <th>country.name</th>\n",
       "      <th>country.id</th>\n",
       "      <th>region.id</th>\n",
       "      <th>type</th>\n",
       "      <th>imageRelPath</th>\n",
       "      <th>topics</th>\n",
       "      <th>place</th>\n",
       "      <th>income</th>\n",
       "    </tr>\n",
       "  </thead>\n",
       "  <tbody>\n",
       "    <tr>\n",
       "      <th>1</th>\n",
       "      <td>5d4bf31ccf0b3a0f3f359814</td>\n",
       "      <td>Burundi</td>\n",
       "      <td>bi</td>\n",
       "      <td>af</td>\n",
       "      <td>image</td>\n",
       "      <td>assets/5d4bf31ccf0b3a0f3f359814/5d4bf31ccf0b3a...</td>\n",
       "      <td>Family snapshots</td>\n",
       "      <td>butoyi</td>\n",
       "      <td>26.994581</td>\n",
       "    </tr>\n",
       "    <tr>\n",
       "      <th>3</th>\n",
       "      <td>5d4bf31ccf0b3a0f3f35982e</td>\n",
       "      <td>Burundi</td>\n",
       "      <td>bi</td>\n",
       "      <td>af</td>\n",
       "      <td>image</td>\n",
       "      <td>assets/5d4bf31ccf0b3a0f3f35982e/5d4bf31ccf0b3a...</td>\n",
       "      <td>Family</td>\n",
       "      <td>butoyi</td>\n",
       "      <td>26.994581</td>\n",
       "    </tr>\n",
       "    <tr>\n",
       "      <th>84</th>\n",
       "      <td>5fd029591f89a90d2a769d21</td>\n",
       "      <td>Burundi</td>\n",
       "      <td>bi</td>\n",
       "      <td>af</td>\n",
       "      <td>video</td>\n",
       "      <td>assets/5fd029591f89a90d2a769d21/6304933865827c...</td>\n",
       "      <td>Family</td>\n",
       "      <td>butoyi</td>\n",
       "      <td>26.994581</td>\n",
       "    </tr>\n",
       "    <tr>\n",
       "      <th>88</th>\n",
       "      <td>5d4bf330cf0b3a0f3f359a20</td>\n",
       "      <td>Burundi</td>\n",
       "      <td>bi</td>\n",
       "      <td>af</td>\n",
       "      <td>image</td>\n",
       "      <td>assets/5d4bf330cf0b3a0f3f359a20/5d4bf330cf0b3a...</td>\n",
       "      <td>Family snapshots</td>\n",
       "      <td>kabura</td>\n",
       "      <td>28.500000</td>\n",
       "    </tr>\n",
       "    <tr>\n",
       "      <th>102</th>\n",
       "      <td>5d4bf333cf0b3a0f3f359a88</td>\n",
       "      <td>Burundi</td>\n",
       "      <td>bi</td>\n",
       "      <td>af</td>\n",
       "      <td>image</td>\n",
       "      <td>assets/5d4bf333cf0b3a0f3f359a88/5d4bf333cf0b3a...</td>\n",
       "      <td>Family</td>\n",
       "      <td>kabura</td>\n",
       "      <td>28.500000</td>\n",
       "    </tr>\n",
       "  </tbody>\n",
       "</table>\n",
       "</div>"
      ],
      "text/plain": [
       "                           id country.name country.id region.id   type  \\\n",
       "1    5d4bf31ccf0b3a0f3f359814      Burundi         bi        af  image   \n",
       "3    5d4bf31ccf0b3a0f3f35982e      Burundi         bi        af  image   \n",
       "84   5fd029591f89a90d2a769d21      Burundi         bi        af  video   \n",
       "88   5d4bf330cf0b3a0f3f359a20      Burundi         bi        af  image   \n",
       "102  5d4bf333cf0b3a0f3f359a88      Burundi         bi        af  image   \n",
       "\n",
       "                                          imageRelPath            topics  \\\n",
       "1    assets/5d4bf31ccf0b3a0f3f359814/5d4bf31ccf0b3a...  Family snapshots   \n",
       "3    assets/5d4bf31ccf0b3a0f3f35982e/5d4bf31ccf0b3a...            Family   \n",
       "84   assets/5fd029591f89a90d2a769d21/6304933865827c...            Family   \n",
       "88   assets/5d4bf330cf0b3a0f3f359a20/5d4bf330cf0b3a...  Family snapshots   \n",
       "102  assets/5d4bf333cf0b3a0f3f359a88/5d4bf333cf0b3a...            Family   \n",
       "\n",
       "      place     income  \n",
       "1    butoyi  26.994581  \n",
       "3    butoyi  26.994581  \n",
       "84   butoyi  26.994581  \n",
       "88   kabura  28.500000  \n",
       "102  kabura  28.500000  "
      ]
     },
     "execution_count": 43,
     "metadata": {},
     "output_type": "execute_result"
    }
   ],
   "source": [
    "# seelct all rows with topic == Family snapshots or Family\n",
    "ds_data = ds_data[ds_data['topics'].isin(['Family snapshots', 'Family'])]\n",
    "print(ds_data.shape)\n",
    "ds_data.head()"
   ]
  },
  {
   "cell_type": "code",
   "execution_count": 44,
   "metadata": {},
   "outputs": [
    {
     "data": {
      "text/plain": [
       "Index(['id', 'country.name', 'country.id', 'region.id', 'type', 'imageRelPath',\n",
       "       'topics', 'place', 'income'],\n",
       "      dtype='object')"
      ]
     },
     "execution_count": 44,
     "metadata": {},
     "output_type": "execute_result"
    }
   ],
   "source": [
    "ds_data.columns"
   ]
  },
  {
   "cell_type": "markdown",
   "metadata": {},
   "source": [
    "### Copy Images: Family, Family Snapshots"
   ]
  },
  {
   "cell_type": "code",
   "execution_count": 55,
   "metadata": {},
   "outputs": [
    {
     "name": "stderr",
     "output_type": "stream",
     "text": [
      "100%|██████████| 63/63 [00:16<00:00,  3.88it/s]\n"
     ]
    }
   ],
   "source": [
    "from tqdm import tqdm\n",
    "import shutil   \n",
    "\n",
    "# for each unique country, look for image path in image_path column, copy that file to a new folder \"dollarstreet_family\"\n",
    "# create a new folder\n",
    "ds_folder = \"/projects/belongielab/people/vsl333/ds/dollarstreet_family\"\n",
    "base_folder = \"/projects/belongielab/people/vsl333/ds/dollarstreet\"\n",
    "\n",
    "\n",
    "if os.path.exists(ds_folder):\n",
    "    shutil.rmtree(ds_folder)\n",
    "os.makedirs(f\"{ds_folder}\", exist_ok=True)\n",
    "\n",
    "countries = ds_data[\"country.name\"].unique()\n",
    "\n",
    "image_metadata =[]\n",
    "for country in tqdm(countries):\n",
    "    country_folder = f\"{ds_folder}/{country}\"\n",
    "    if os.path.exists(country_folder):\n",
    "        shutil.rmtree(country_folder)\n",
    "    os.makedirs(country_folder, exist_ok=True)\n",
    "\n",
    "    country_data = {}; country_metadata = []\n",
    "    country_data = ds_data[ds_data[\"country.name\"] == country]\n",
    "    for idx, row in country_data.iterrows():\n",
    "        image_path = row[\"imageRelPath\"]\n",
    "\n",
    "        country_data = {\n",
    "            \"id\": row[\"id\"],\n",
    "            \"country.name\": row[\"country.name\"],\n",
    "            \"country.id\": row[\"country.id\"],\n",
    "            \"region.id\": row[\"region.id\"],\n",
    "            \"type\": row[\"type\"],\n",
    "            \"topics\": row[\"topics\"],\n",
    "            \"place\": row[\"place\"],\n",
    "            \"income\": row[\"income\"]\n",
    "        }\n",
    "    \n",
    "        try:\n",
    "            shutil.copy(os.path.join(base_folder, image_path), country_folder)\n",
    "            country_data[\"copied\"] = True\n",
    "            country_data[\"image-path\"] = os.path.join(country_folder, image_path)\n",
    "\n",
    "        except Exception as e:\n",
    "            print(f\"Failed to copy image: {image_path} for {country}\")\n",
    "            print(e)\n",
    "            country_data[\"copied\"] = False\n",
    "            country_data[\"image-path\"] = os.path.join(country_folder, image_path)\n",
    "\n",
    "        country_metadata.append(country_data)\n",
    "    \n",
    "    image_metadata.append(country_metadata)\n",
    "    # print(\"Copied country: \", country)\n"
   ]
  },
  {
   "cell_type": "markdown",
   "metadata": {},
   "source": [
    "### Save Metadata for Family, Family Snapshots"
   ]
  },
  {
   "cell_type": "code",
   "execution_count": 56,
   "metadata": {},
   "outputs": [
    {
     "name": "stdout",
     "output_type": "stream",
     "text": [
      "(567, 10)\n"
     ]
    },
    {
     "data": {
      "text/html": [
       "<div>\n",
       "<style scoped>\n",
       "    .dataframe tbody tr th:only-of-type {\n",
       "        vertical-align: middle;\n",
       "    }\n",
       "\n",
       "    .dataframe tbody tr th {\n",
       "        vertical-align: top;\n",
       "    }\n",
       "\n",
       "    .dataframe thead th {\n",
       "        text-align: right;\n",
       "    }\n",
       "</style>\n",
       "<table border=\"1\" class=\"dataframe\">\n",
       "  <thead>\n",
       "    <tr style=\"text-align: right;\">\n",
       "      <th></th>\n",
       "      <th>id</th>\n",
       "      <th>country.name</th>\n",
       "      <th>country.id</th>\n",
       "      <th>region.id</th>\n",
       "      <th>type</th>\n",
       "      <th>topics</th>\n",
       "      <th>place</th>\n",
       "      <th>income</th>\n",
       "      <th>copied</th>\n",
       "      <th>image-path</th>\n",
       "    </tr>\n",
       "  </thead>\n",
       "  <tbody>\n",
       "    <tr>\n",
       "      <th>0</th>\n",
       "      <td>5d4bf31ccf0b3a0f3f359814</td>\n",
       "      <td>Burundi</td>\n",
       "      <td>bi</td>\n",
       "      <td>af</td>\n",
       "      <td>image</td>\n",
       "      <td>Family snapshots</td>\n",
       "      <td>butoyi</td>\n",
       "      <td>26.994581</td>\n",
       "      <td>True</td>\n",
       "      <td>/projects/belongielab/people/vsl333/ds/dollars...</td>\n",
       "    </tr>\n",
       "    <tr>\n",
       "      <th>1</th>\n",
       "      <td>5d4bf31ccf0b3a0f3f35982e</td>\n",
       "      <td>Burundi</td>\n",
       "      <td>bi</td>\n",
       "      <td>af</td>\n",
       "      <td>image</td>\n",
       "      <td>Family</td>\n",
       "      <td>butoyi</td>\n",
       "      <td>26.994581</td>\n",
       "      <td>True</td>\n",
       "      <td>/projects/belongielab/people/vsl333/ds/dollars...</td>\n",
       "    </tr>\n",
       "    <tr>\n",
       "      <th>2</th>\n",
       "      <td>5fd029591f89a90d2a769d21</td>\n",
       "      <td>Burundi</td>\n",
       "      <td>bi</td>\n",
       "      <td>af</td>\n",
       "      <td>video</td>\n",
       "      <td>Family</td>\n",
       "      <td>butoyi</td>\n",
       "      <td>26.994581</td>\n",
       "      <td>True</td>\n",
       "      <td>/projects/belongielab/people/vsl333/ds/dollars...</td>\n",
       "    </tr>\n",
       "    <tr>\n",
       "      <th>3</th>\n",
       "      <td>5d4bf330cf0b3a0f3f359a20</td>\n",
       "      <td>Burundi</td>\n",
       "      <td>bi</td>\n",
       "      <td>af</td>\n",
       "      <td>image</td>\n",
       "      <td>Family snapshots</td>\n",
       "      <td>kabura</td>\n",
       "      <td>28.500000</td>\n",
       "      <td>True</td>\n",
       "      <td>/projects/belongielab/people/vsl333/ds/dollars...</td>\n",
       "    </tr>\n",
       "    <tr>\n",
       "      <th>4</th>\n",
       "      <td>5d4bf333cf0b3a0f3f359a88</td>\n",
       "      <td>Burundi</td>\n",
       "      <td>bi</td>\n",
       "      <td>af</td>\n",
       "      <td>image</td>\n",
       "      <td>Family</td>\n",
       "      <td>kabura</td>\n",
       "      <td>28.500000</td>\n",
       "      <td>True</td>\n",
       "      <td>/projects/belongielab/people/vsl333/ds/dollars...</td>\n",
       "    </tr>\n",
       "  </tbody>\n",
       "</table>\n",
       "</div>"
      ],
      "text/plain": [
       "                         id country.name country.id region.id   type  \\\n",
       "0  5d4bf31ccf0b3a0f3f359814      Burundi         bi        af  image   \n",
       "1  5d4bf31ccf0b3a0f3f35982e      Burundi         bi        af  image   \n",
       "2  5fd029591f89a90d2a769d21      Burundi         bi        af  video   \n",
       "3  5d4bf330cf0b3a0f3f359a20      Burundi         bi        af  image   \n",
       "4  5d4bf333cf0b3a0f3f359a88      Burundi         bi        af  image   \n",
       "\n",
       "             topics   place     income  copied  \\\n",
       "0  Family snapshots  butoyi  26.994581    True   \n",
       "1            Family  butoyi  26.994581    True   \n",
       "2            Family  butoyi  26.994581    True   \n",
       "3  Family snapshots  kabura  28.500000    True   \n",
       "4            Family  kabura  28.500000    True   \n",
       "\n",
       "                                          image-path  \n",
       "0  /projects/belongielab/people/vsl333/ds/dollars...  \n",
       "1  /projects/belongielab/people/vsl333/ds/dollars...  \n",
       "2  /projects/belongielab/people/vsl333/ds/dollars...  \n",
       "3  /projects/belongielab/people/vsl333/ds/dollars...  \n",
       "4  /projects/belongielab/people/vsl333/ds/dollars...  "
      ]
     },
     "execution_count": 56,
     "metadata": {},
     "output_type": "execute_result"
    }
   ],
   "source": [
    "image_metadata_df = pd.DataFrame([item for sublist in image_metadata for item in sublist])\n",
    "image_metadata_df.to_csv(f\"{ds_folder}/metadata.csv\", index=False)\n",
    "print(image_metadata_df.shape)\n",
    "image_metadata_df.head()"
   ]
  },
  {
   "cell_type": "markdown",
   "metadata": {},
   "source": [
    "----------------------------------------------------------------"
   ]
  },
  {
   "cell_type": "markdown",
   "metadata": {},
   "source": [
    "### Save Metadata for Accurate Photos"
   ]
  },
  {
   "cell_type": "code",
   "execution_count": 61,
   "metadata": {},
   "outputs": [
    {
     "name": "stdout",
     "output_type": "stream",
     "text": [
      "Index(['id', 'country.name', 'country.id', 'region.id', 'type', 'imageRelPath',\n",
      "       'topics', 'place', 'income'],\n",
      "      dtype='object')\n",
      "(38479, 9)\n"
     ]
    },
    {
     "data": {
      "text/html": [
       "<div>\n",
       "<style scoped>\n",
       "    .dataframe tbody tr th:only-of-type {\n",
       "        vertical-align: middle;\n",
       "    }\n",
       "\n",
       "    .dataframe tbody tr th {\n",
       "        vertical-align: top;\n",
       "    }\n",
       "\n",
       "    .dataframe thead th {\n",
       "        text-align: right;\n",
       "    }\n",
       "</style>\n",
       "<table border=\"1\" class=\"dataframe\">\n",
       "  <thead>\n",
       "    <tr style=\"text-align: right;\">\n",
       "      <th></th>\n",
       "      <th>id</th>\n",
       "      <th>country.name</th>\n",
       "      <th>country.id</th>\n",
       "      <th>region.id</th>\n",
       "      <th>type</th>\n",
       "      <th>imageRelPath</th>\n",
       "      <th>topics</th>\n",
       "      <th>place</th>\n",
       "      <th>income</th>\n",
       "    </tr>\n",
       "  </thead>\n",
       "  <tbody>\n",
       "    <tr>\n",
       "      <th>0</th>\n",
       "      <td>5d4be6cecf0b3a0f3f344586</td>\n",
       "      <td>Burundi</td>\n",
       "      <td>bi</td>\n",
       "      <td>af</td>\n",
       "      <td>image</td>\n",
       "      <td>assets/5d4be6cecf0b3a0f3f344586/5d4be6cecf0b3a...</td>\n",
       "      <td>icons</td>\n",
       "      <td>butoyi</td>\n",
       "      <td>26.994581</td>\n",
       "    </tr>\n",
       "    <tr>\n",
       "      <th>1</th>\n",
       "      <td>5d4bf31ccf0b3a0f3f359814</td>\n",
       "      <td>Burundi</td>\n",
       "      <td>bi</td>\n",
       "      <td>af</td>\n",
       "      <td>image</td>\n",
       "      <td>assets/5d4bf31ccf0b3a0f3f359814/5d4bf31ccf0b3a...</td>\n",
       "      <td>Family snapshots</td>\n",
       "      <td>butoyi</td>\n",
       "      <td>26.994581</td>\n",
       "    </tr>\n",
       "    <tr>\n",
       "      <th>2</th>\n",
       "      <td>5d4bf31ccf0b3a0f3f35982a</td>\n",
       "      <td>Burundi</td>\n",
       "      <td>bi</td>\n",
       "      <td>af</td>\n",
       "      <td>image</td>\n",
       "      <td>assets/5d4bf31ccf0b3a0f3f35982a/5d4bf31ccf0b3a...</td>\n",
       "      <td>Cutlery</td>\n",
       "      <td>butoyi</td>\n",
       "      <td>26.994581</td>\n",
       "    </tr>\n",
       "    <tr>\n",
       "      <th>3</th>\n",
       "      <td>5d4bf31ccf0b3a0f3f35982e</td>\n",
       "      <td>Burundi</td>\n",
       "      <td>bi</td>\n",
       "      <td>af</td>\n",
       "      <td>image</td>\n",
       "      <td>assets/5d4bf31ccf0b3a0f3f35982e/5d4bf31ccf0b3a...</td>\n",
       "      <td>Family</td>\n",
       "      <td>butoyi</td>\n",
       "      <td>26.994581</td>\n",
       "    </tr>\n",
       "    <tr>\n",
       "      <th>4</th>\n",
       "      <td>5d4bf31ccf0b3a0f3f359830</td>\n",
       "      <td>Burundi</td>\n",
       "      <td>bi</td>\n",
       "      <td>af</td>\n",
       "      <td>image</td>\n",
       "      <td>assets/5d4bf31ccf0b3a0f3f359830/5d4bf31ccf0b3a...</td>\n",
       "      <td>Place where eating dinner</td>\n",
       "      <td>butoyi</td>\n",
       "      <td>26.994581</td>\n",
       "    </tr>\n",
       "  </tbody>\n",
       "</table>\n",
       "</div>"
      ],
      "text/plain": [
       "                         id country.name country.id region.id   type  \\\n",
       "0  5d4be6cecf0b3a0f3f344586      Burundi         bi        af  image   \n",
       "1  5d4bf31ccf0b3a0f3f359814      Burundi         bi        af  image   \n",
       "2  5d4bf31ccf0b3a0f3f35982a      Burundi         bi        af  image   \n",
       "3  5d4bf31ccf0b3a0f3f35982e      Burundi         bi        af  image   \n",
       "4  5d4bf31ccf0b3a0f3f359830      Burundi         bi        af  image   \n",
       "\n",
       "                                        imageRelPath  \\\n",
       "0  assets/5d4be6cecf0b3a0f3f344586/5d4be6cecf0b3a...   \n",
       "1  assets/5d4bf31ccf0b3a0f3f359814/5d4bf31ccf0b3a...   \n",
       "2  assets/5d4bf31ccf0b3a0f3f35982a/5d4bf31ccf0b3a...   \n",
       "3  assets/5d4bf31ccf0b3a0f3f35982e/5d4bf31ccf0b3a...   \n",
       "4  assets/5d4bf31ccf0b3a0f3f359830/5d4bf31ccf0b3a...   \n",
       "\n",
       "                      topics   place     income  \n",
       "0                      icons  butoyi  26.994581  \n",
       "1           Family snapshots  butoyi  26.994581  \n",
       "2                    Cutlery  butoyi  26.994581  \n",
       "3                     Family  butoyi  26.994581  \n",
       "4  Place where eating dinner  butoyi  26.994581  "
      ]
     },
     "execution_count": 61,
     "metadata": {},
     "output_type": "execute_result"
    }
   ],
   "source": [
    "ds_data = \"/projects/belongielab/people/vsl333/ds/dollarstreet/images_v2.csv\"\n",
    "ds_data = pd.read_csv(ds_data)\n",
    "print(ds_data.columns)\n",
    "print(ds_data.shape)\n",
    "ds_data.head()"
   ]
  },
  {
   "cell_type": "code",
   "execution_count": 86,
   "metadata": {},
   "outputs": [
    {
     "name": "stdout",
     "output_type": "stream",
     "text": [
      "No. of files:  137\n"
     ]
    },
    {
     "data": {
      "text/plain": [
       "['/projects/belongielab/people/vsl333/ds/dollarstreet_accurate_images/Brazil/5d4be1bacf0b3a0f3f33b8af.jpg',\n",
       " '/projects/belongielab/people/vsl333/ds/dollarstreet_accurate_images/Brazil/5d4be173cf0b3a0f3f33b1ad.jpg',\n",
       " '/projects/belongielab/people/vsl333/ds/dollarstreet_accurate_images/Brazil/5d4be193cf0b3a0f3f33b465.jpg',\n",
       " '/projects/belongielab/people/vsl333/ds/dollarstreet_accurate_images/Brazil/5d4be163cf0b3a0f3f33afd5.jpg',\n",
       " '/projects/belongielab/people/vsl333/ds/dollarstreet_accurate_images/Brazil/5ec4fa8bf0611d7ddd742093.jpg']"
      ]
     },
     "execution_count": 86,
     "metadata": {},
     "output_type": "execute_result"
    }
   ],
   "source": [
    "classification_dir = \"/projects/belongielab/people/vsl333/ds/dollarstreet_accurate_images\"\n",
    "\n",
    "# make a list of all the images in the classification directory and subdirectories\n",
    "from glob import glob\n",
    "import os\n",
    "import pandas as pd\n",
    "\n",
    "image_files = glob(f\"{classification_dir}/**/*.jpg\", recursive=True)\n",
    "print(\"No. of files: \", len(image_files))\n",
    "image_files[0:5]"
   ]
  },
  {
   "cell_type": "code",
   "execution_count": 87,
   "metadata": {},
   "outputs": [
    {
     "name": "stderr",
     "output_type": "stream",
     "text": [
      "38479it [00:02, 17247.35it/s]"
     ]
    },
    {
     "name": "stdout",
     "output_type": "stream",
     "text": [
      "Len of metadata:  129\n",
      "Duplicates:  []\n"
     ]
    },
    {
     "name": "stderr",
     "output_type": "stream",
     "text": [
      "\n"
     ]
    }
   ],
   "source": [
    "import collections\n",
    "\n",
    "ds_data = \"/projects/belongielab/people/vsl333/ds/dollarstreet/images_v2.csv\"\n",
    "ds_data = pd.read_csv(ds_data)\n",
    "\n",
    "metadata = []\n",
    "found_image_files = []\n",
    "found = 0\n",
    "not_found = 0\n",
    "for idx, row in tqdm(ds_data.iterrows()):\n",
    "    image_id = row[\"id\"]\n",
    "    # if file ends with image_id.jpg\n",
    "    if any([image_id in f for f in image_files]):\n",
    "        image_file = [f for f in image_files if image_id in f][0].split(\"/\")[-2:]\n",
    "        image_path = \"/\".join(image_file)\n",
    "        row[\"image_path\"] = image_path\n",
    "        found_image_files.append(image_path)\n",
    "        metadata.append(row)\n",
    "        found += 1\n",
    "    else:\n",
    "        not_found += 1\n",
    "\n",
    "\n",
    "print(\"Len of metadata: \", len(metadata))\n",
    "\n",
    "# check for duplicates: image_files\n",
    "duplicates = [item for item, count in collections.Counter(found_image_files).items() if count > 1]\n",
    "print(\"Duplicates: \", duplicates)"
   ]
  },
  {
   "cell_type": "code",
   "execution_count": 88,
   "metadata": {},
   "outputs": [
    {
     "name": "stdout",
     "output_type": "stream",
     "text": [
      "Found: 129, Not Found: 38350\n",
      "(129, 10)\n"
     ]
    }
   ],
   "source": [
    "metadata_df = pd.DataFrame(metadata)\n",
    "metadata_csv = f\"{classification_dir}/metadata.csv\"\n",
    "if os.path.exists(metadata_csv):\n",
    "    os.remove(metadata_csv)\n",
    "metadata_df.to_csv(metadata_csv, index=False)\n",
    "\n",
    "print(f\"Found: {found}, Not Found: {not_found}\")\n",
    "print(metadata_df.shape)"
   ]
  }
 ],
 "metadata": {
  "kernelspec": {
   "display_name": "culture-values",
   "language": "python",
   "name": "python3"
  },
  "language_info": {
   "codemirror_mode": {
    "name": "ipython",
    "version": 3
   },
   "file_extension": ".py",
   "mimetype": "text/x-python",
   "name": "python",
   "nbconvert_exporter": "python",
   "pygments_lexer": "ipython3",
   "version": "3.9.9"
  }
 },
 "nbformat": 4,
 "nbformat_minor": 2
}
