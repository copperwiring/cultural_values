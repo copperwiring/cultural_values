{
 "cells": [
  {
   "cell_type": "code",
   "execution_count": 67,
   "metadata": {},
   "outputs": [],
   "source": [
    "import os\n",
    "import pandas as pd\n",
    "from tqdm import tqdm"
   ]
  },
  {
   "cell_type": "markdown",
   "metadata": {},
   "source": [
    "Read files\n"
   ]
  },
  {
   "cell_type": "code",
   "execution_count": 68,
   "metadata": {},
   "outputs": [
    {
     "data": {
      "text/plain": [
       "['llava_img_True_country_True.csv',\n",
       " 'llava_img_False_country_False.csv',\n",
       " 'llava_img_True_country_False.csv',\n",
       " 'llava_img_False_country_True.csv']"
      ]
     },
     "execution_count": 68,
     "metadata": {},
     "output_type": "execute_result"
    }
   ],
   "source": [
    "# read files from output directory\n",
    "output_dir = '../output_test_sample'\n",
    "output_files = os.listdir(output_dir)\n",
    "output_files "
   ]
  },
  {
   "cell_type": "code",
   "execution_count": 69,
   "metadata": {},
   "outputs": [
    {
     "data": {
      "text/html": [
       "<div>\n",
       "<style scoped>\n",
       "    .dataframe tbody tr th:only-of-type {\n",
       "        vertical-align: middle;\n",
       "    }\n",
       "\n",
       "    .dataframe tbody tr th {\n",
       "        vertical-align: top;\n",
       "    }\n",
       "\n",
       "    .dataframe thead th {\n",
       "        text-align: right;\n",
       "    }\n",
       "</style>\n",
       "<table border=\"1\" class=\"dataframe\">\n",
       "  <thead>\n",
       "    <tr style=\"text-align: right;\">\n",
       "      <th></th>\n",
       "      <th>question</th>\n",
       "      <th>selections</th>\n",
       "      <th>options</th>\n",
       "      <th>source</th>\n",
       "    </tr>\n",
       "  </thead>\n",
       "  <tbody>\n",
       "    <tr>\n",
       "      <th>2203</th>\n",
       "      <td>How satisfied are you with the following?\\n\\nT...</td>\n",
       "      <td>defaultdict(&lt;class 'list'&gt;, {'Iraq': [0.288000...</td>\n",
       "      <td>['Completely dissatisfied', 'Rather dissatisfi...</td>\n",
       "      <td>WVS</td>\n",
       "    </tr>\n",
       "    <tr>\n",
       "      <th>2204</th>\n",
       "      <td>Please tell us if you strongly agree, agree, d...</td>\n",
       "      <td>defaultdict(&lt;class 'list'&gt;, {'Ethiopia': [0.07...</td>\n",
       "      <td>['Strongly agree', 'Agree', 'Disagree', 'Stron...</td>\n",
       "      <td>WVS</td>\n",
       "    </tr>\n",
       "    <tr>\n",
       "      <th>2205</th>\n",
       "      <td>Please tell us if you strongly agree, agree, d...</td>\n",
       "      <td>defaultdict(&lt;class 'list'&gt;, {'Ethiopia': [0.21...</td>\n",
       "      <td>['Strongly agree', 'Agree', 'Disagree', 'Stron...</td>\n",
       "      <td>WVS</td>\n",
       "    </tr>\n",
       "    <tr>\n",
       "      <th>2206</th>\n",
       "      <td>In your view, how often do the following thing...</td>\n",
       "      <td>defaultdict(&lt;class 'list'&gt;, {'Albania': [0.075...</td>\n",
       "      <td>['Very often', 'Fairly often', 'Not often', 'N...</td>\n",
       "      <td>WVS</td>\n",
       "    </tr>\n",
       "    <tr>\n",
       "      <th>2207</th>\n",
       "      <td>I am going to name a number of organizations. ...</td>\n",
       "      <td>defaultdict(&lt;class 'list'&gt;, {'Hong Kong SAR': ...</td>\n",
       "      <td>['A great deal', 'Quite a lot', 'Not very much...</td>\n",
       "      <td>WVS</td>\n",
       "    </tr>\n",
       "  </tbody>\n",
       "</table>\n",
       "</div>"
      ],
      "text/plain": [
       "                                               question  \\\n",
       "2203  How satisfied are you with the following?\\n\\nT...   \n",
       "2204  Please tell us if you strongly agree, agree, d...   \n",
       "2205  Please tell us if you strongly agree, agree, d...   \n",
       "2206  In your view, how often do the following thing...   \n",
       "2207  I am going to name a number of organizations. ...   \n",
       "\n",
       "                                             selections  \\\n",
       "2203  defaultdict(<class 'list'>, {'Iraq': [0.288000...   \n",
       "2204  defaultdict(<class 'list'>, {'Ethiopia': [0.07...   \n",
       "2205  defaultdict(<class 'list'>, {'Ethiopia': [0.21...   \n",
       "2206  defaultdict(<class 'list'>, {'Albania': [0.075...   \n",
       "2207  defaultdict(<class 'list'>, {'Hong Kong SAR': ...   \n",
       "\n",
       "                                                options source  \n",
       "2203  ['Completely dissatisfied', 'Rather dissatisfi...    WVS  \n",
       "2204  ['Strongly agree', 'Agree', 'Disagree', 'Stron...    WVS  \n",
       "2205  ['Strongly agree', 'Agree', 'Disagree', 'Stron...    WVS  \n",
       "2206  ['Very often', 'Fairly often', 'Not often', 'N...    WVS  \n",
       "2207  ['A great deal', 'Quite a lot', 'Not very much...    WVS  "
      ]
     },
     "execution_count": 69,
     "metadata": {},
     "output_type": "execute_result"
    }
   ],
   "source": [
    "from datasets import load_dataset\n",
    "\n",
    "go_dataset = load_dataset(\"Anthropic/llm_global_opinions\")\n",
    "\n",
    "# load as a pandas dataframe where 'source' == wvs\n",
    "go_dataset_df = go_dataset['train'].to_pandas()\n",
    "go_dataset_wvs = go_dataset_df[go_dataset_df['source'] == 'WVS']\n",
    "go_dataset_wvs.head()"
   ]
  },
  {
   "cell_type": "code",
   "execution_count": 70,
   "metadata": {},
   "outputs": [],
   "source": [
    "import shutil\n",
    "img_comparison = True\n",
    "img_country_comparison = False\n",
    "\n",
    "if img_comparison:\n",
    "    setting_1 = 'Image False, Country True'\n",
    "    setting_2 = 'Image False, Country False'\n",
    "    file_1 = os.path.join(output_dir, 'llava_img_False_country_True.csv')\n",
    "    file_2 = os.path.join(output_dir, 'llava_img_False_country_False.csv')\n",
    "    image_dir = '../jsd_percountry_images_true_country_false'\n",
    "elif img_country_comparison:\n",
    "    setting_1 = 'Image True, Country False'\n",
    "    setting_2 = 'Image False, Country True'\n",
    "    file_1 = os.path.join(output_dir, 'llava_img_True_country_False.csv')\n",
    "    file_2 = os.path.join(output_dir, 'llava_img_False_country_True.csv')\n",
    "    image_dir = '../jsd_percountry_images_true_country_true'\n",
    "\n",
    "# delete all files in the directory if exists\n",
    "# if os.path.exists(image_dir):\n",
    "#     shutil.rmtree(image_dir)\n",
    "# os.makedirs(image_dir)\n",
    "\n",
    "df_1 = pd.read_csv(file_1) # image true\n",
    "df_2 = pd.read_csv(file_2) # image false"
   ]
  },
  {
   "cell_type": "code",
   "execution_count": 71,
   "metadata": {},
   "outputs": [],
   "source": [
    "import ast\n",
    "\n",
    "def convert_to_list(x):\n",
    "    x = ast.literal_eval(x) \n",
    "    x_list = list(x.values()) if isinstance(x, dict) else list(x)\n",
    "    return x_list\n",
    "\n",
    "def get_distribution_list(df, options_prob_col, wvs_distribution_col):\n",
    "    options_prob_dict = [convert_to_list(val) for val in df[options_prob_col]]\n",
    "    df['options_prob_list'] = pd.Series(options_prob_dict)\n",
    "    \n",
    "    wvs_distribution = [convert_to_list(val) for val in df[wvs_distribution_col]]\n",
    "    df['wvs_distribution_list'] = wvs_distribution\n",
    "    \n",
    "    return df\n",
    "\n",
    "# Assuming df_1 and df_2 are already defined DataFrames\n",
    "df_1 = get_distribution_list(df_1, 'options_prob', 'wvs_distribution')\n",
    "df_2 = get_distribution_list(df_2, 'options_prob', 'wvs_distribution')"
   ]
  },
  {
   "cell_type": "code",
   "execution_count": 72,
   "metadata": {},
   "outputs": [],
   "source": [
    "wvs_questions = go_dataset_wvs['question'].unique()\n",
    "model_questions = df_1['question'].unique()\n",
    "\n",
    "common_questions = set(wvs_questions).intersection(set(model_questions))\n",
    "len(common_questions)\n",
    "\n",
    "# for all unique value in questions column, find \"options\" value from go_dataset_wvs and add to df_aggregated\n",
    "def add_options_to_df(questions, df_aggregated, go_dataset_wvs):\n",
    "    for question in questions:\n",
    "        options = go_dataset_wvs[go_dataset_wvs['question'] == question]['options'].values[0]\n",
    "        # create a new column with options\n",
    "        # breakpoint()\n",
    "\n",
    "        df_aggregated.loc[df_aggregated['question'] == question, 'options'] = options\n",
    "    return df_aggregated\n",
    "\n",
    "df_aggregated_1 = add_options_to_df(common_questions, df_1, go_dataset_wvs)\n",
    "df_aggregated_2 = add_options_to_df(common_questions, df_2, go_dataset_wvs)"
   ]
  },
  {
   "cell_type": "code",
   "execution_count": 73,
   "metadata": {},
   "outputs": [
    {
     "data": {
      "text/html": [
       "<div>\n",
       "<style scoped>\n",
       "    .dataframe tbody tr th:only-of-type {\n",
       "        vertical-align: middle;\n",
       "    }\n",
       "\n",
       "    .dataframe tbody tr th {\n",
       "        vertical-align: top;\n",
       "    }\n",
       "\n",
       "    .dataframe thead th {\n",
       "        text-align: right;\n",
       "    }\n",
       "</style>\n",
       "<table border=\"1\" class=\"dataframe\">\n",
       "  <thead>\n",
       "    <tr style=\"text-align: right;\">\n",
       "      <th></th>\n",
       "      <th>useimage</th>\n",
       "      <th>usecountry</th>\n",
       "      <th>ques_idx</th>\n",
       "      <th>question</th>\n",
       "      <th>image_id</th>\n",
       "      <th>img_path</th>\n",
       "      <th>country</th>\n",
       "      <th>top10_token_prob</th>\n",
       "      <th>options_prob_percent</th>\n",
       "      <th>options_prob</th>\n",
       "      <th>wvs_distribution</th>\n",
       "      <th>prompt</th>\n",
       "      <th>options_prob_list</th>\n",
       "      <th>wvs_distribution_list</th>\n",
       "      <th>options</th>\n",
       "    </tr>\n",
       "  </thead>\n",
       "  <tbody>\n",
       "    <tr>\n",
       "      <th>0</th>\n",
       "      <td>False</td>\n",
       "      <td>True</td>\n",
       "      <td>0</td>\n",
       "      <td>How satisfied are you with the following?\\n\\nT...</td>\n",
       "      <td>5d4be99dcf0b3a0f3f348f34</td>\n",
       "      <td>NaN</td>\n",
       "      <td>Jordan</td>\n",
       "      <td>[('C', 0.5658066272735596), ('D', 0.2286065369...</td>\n",
       "      <td>{'A': 4.0, 'B': 8.0, 'C': 56.99999999999999, '...</td>\n",
       "      <td>{'A': 0.04163234308362007, 'B': 0.076573595404...</td>\n",
       "      <td>[0.363, 0.389, 0.168, 0.059000000000000004, 0....</td>\n",
       "      <td>How would someone from Jordan  answer the foll...</td>\n",
       "      <td>[0.04163234308362007, 0.07657359540462494, 0.5...</td>\n",
       "      <td>[0.363, 0.389, 0.168, 0.059000000000000004, 0....</td>\n",
       "      <td>['Completely dissatisfied', 'Rather dissatisfi...</td>\n",
       "    </tr>\n",
       "    <tr>\n",
       "      <th>1</th>\n",
       "      <td>False</td>\n",
       "      <td>True</td>\n",
       "      <td>0</td>\n",
       "      <td>How satisfied are you with the following?\\n\\nT...</td>\n",
       "      <td>5d4be9e3cf0b3a0f3f34976c</td>\n",
       "      <td>NaN</td>\n",
       "      <td>Jordan</td>\n",
       "      <td>[('C', 0.5658066272735596), ('D', 0.2286065369...</td>\n",
       "      <td>{'A': 4.0, 'B': 8.0, 'C': 56.99999999999999, '...</td>\n",
       "      <td>{'A': 0.04163234308362007, 'B': 0.076573595404...</td>\n",
       "      <td>[0.363, 0.389, 0.168, 0.059000000000000004, 0....</td>\n",
       "      <td>How would someone from Jordan  answer the foll...</td>\n",
       "      <td>[0.04163234308362007, 0.07657359540462494, 0.5...</td>\n",
       "      <td>[0.363, 0.389, 0.168, 0.059000000000000004, 0....</td>\n",
       "      <td>['Completely dissatisfied', 'Rather dissatisfi...</td>\n",
       "    </tr>\n",
       "  </tbody>\n",
       "</table>\n",
       "</div>"
      ],
      "text/plain": [
       "   useimage  usecountry  ques_idx  \\\n",
       "0     False        True         0   \n",
       "1     False        True         0   \n",
       "\n",
       "                                            question  \\\n",
       "0  How satisfied are you with the following?\\n\\nT...   \n",
       "1  How satisfied are you with the following?\\n\\nT...   \n",
       "\n",
       "                   image_id  img_path country  \\\n",
       "0  5d4be99dcf0b3a0f3f348f34       NaN  Jordan   \n",
       "1  5d4be9e3cf0b3a0f3f34976c       NaN  Jordan   \n",
       "\n",
       "                                    top10_token_prob  \\\n",
       "0  [('C', 0.5658066272735596), ('D', 0.2286065369...   \n",
       "1  [('C', 0.5658066272735596), ('D', 0.2286065369...   \n",
       "\n",
       "                                options_prob_percent  \\\n",
       "0  {'A': 4.0, 'B': 8.0, 'C': 56.99999999999999, '...   \n",
       "1  {'A': 4.0, 'B': 8.0, 'C': 56.99999999999999, '...   \n",
       "\n",
       "                                        options_prob  \\\n",
       "0  {'A': 0.04163234308362007, 'B': 0.076573595404...   \n",
       "1  {'A': 0.04163234308362007, 'B': 0.076573595404...   \n",
       "\n",
       "                                    wvs_distribution  \\\n",
       "0  [0.363, 0.389, 0.168, 0.059000000000000004, 0....   \n",
       "1  [0.363, 0.389, 0.168, 0.059000000000000004, 0....   \n",
       "\n",
       "                                              prompt  \\\n",
       "0  How would someone from Jordan  answer the foll...   \n",
       "1  How would someone from Jordan  answer the foll...   \n",
       "\n",
       "                                   options_prob_list  \\\n",
       "0  [0.04163234308362007, 0.07657359540462494, 0.5...   \n",
       "1  [0.04163234308362007, 0.07657359540462494, 0.5...   \n",
       "\n",
       "                               wvs_distribution_list  \\\n",
       "0  [0.363, 0.389, 0.168, 0.059000000000000004, 0....   \n",
       "1  [0.363, 0.389, 0.168, 0.059000000000000004, 0....   \n",
       "\n",
       "                                             options  \n",
       "0  ['Completely dissatisfied', 'Rather dissatisfi...  \n",
       "1  ['Completely dissatisfied', 'Rather dissatisfi...  "
      ]
     },
     "execution_count": 73,
     "metadata": {},
     "output_type": "execute_result"
    }
   ],
   "source": [
    "df_aggregated_1.head(2)"
   ]
  },
  {
   "cell_type": "code",
   "execution_count": 74,
   "metadata": {},
   "outputs": [
    {
     "data": {
      "text/html": [
       "<div>\n",
       "<style scoped>\n",
       "    .dataframe tbody tr th:only-of-type {\n",
       "        vertical-align: middle;\n",
       "    }\n",
       "\n",
       "    .dataframe tbody tr th {\n",
       "        vertical-align: top;\n",
       "    }\n",
       "\n",
       "    .dataframe thead th {\n",
       "        text-align: right;\n",
       "    }\n",
       "</style>\n",
       "<table border=\"1\" class=\"dataframe\">\n",
       "  <thead>\n",
       "    <tr style=\"text-align: right;\">\n",
       "      <th></th>\n",
       "      <th>useimage</th>\n",
       "      <th>usecountry</th>\n",
       "      <th>ques_idx</th>\n",
       "      <th>question</th>\n",
       "      <th>image_id</th>\n",
       "      <th>img_path</th>\n",
       "      <th>country</th>\n",
       "      <th>top10_token_prob</th>\n",
       "      <th>options_prob_percent</th>\n",
       "      <th>options_prob</th>\n",
       "      <th>wvs_distribution</th>\n",
       "      <th>prompt</th>\n",
       "      <th>options_prob_list</th>\n",
       "      <th>wvs_distribution_list</th>\n",
       "      <th>options</th>\n",
       "    </tr>\n",
       "  </thead>\n",
       "  <tbody>\n",
       "    <tr>\n",
       "      <th>0</th>\n",
       "      <td>False</td>\n",
       "      <td>False</td>\n",
       "      <td>0</td>\n",
       "      <td>How satisfied are you with the following?\\n\\nT...</td>\n",
       "      <td>5d4be99dcf0b3a0f3f348f34</td>\n",
       "      <td>NaN</td>\n",
       "      <td>Jordan</td>\n",
       "      <td>[('C', 0.5581640601158142), ('D', 0.2326773852...</td>\n",
       "      <td>{'A': 5.0, 'B': 6.0, 'C': 56.00000000000001, '...</td>\n",
       "      <td>{'A': 0.047271277755498886, 'B': 0.05975649505...</td>\n",
       "      <td>[0.363, 0.389, 0.168, 0.059000000000000004, 0....</td>\n",
       "      <td>Assume the persona of the demography as seen i...</td>\n",
       "      <td>[0.047271277755498886, 0.05975649505853653, 0....</td>\n",
       "      <td>[0.363, 0.389, 0.168, 0.059000000000000004, 0....</td>\n",
       "      <td>['Completely dissatisfied', 'Rather dissatisfi...</td>\n",
       "    </tr>\n",
       "    <tr>\n",
       "      <th>1</th>\n",
       "      <td>False</td>\n",
       "      <td>False</td>\n",
       "      <td>0</td>\n",
       "      <td>How satisfied are you with the following?\\n\\nT...</td>\n",
       "      <td>5d4be9e3cf0b3a0f3f34976c</td>\n",
       "      <td>NaN</td>\n",
       "      <td>Jordan</td>\n",
       "      <td>[('C', 0.5581640601158142), ('D', 0.2326773852...</td>\n",
       "      <td>{'A': 5.0, 'B': 6.0, 'C': 56.00000000000001, '...</td>\n",
       "      <td>{'A': 0.047271277755498886, 'B': 0.05975649505...</td>\n",
       "      <td>[0.363, 0.389, 0.168, 0.059000000000000004, 0....</td>\n",
       "      <td>Assume the persona of the demography as seen i...</td>\n",
       "      <td>[0.047271277755498886, 0.05975649505853653, 0....</td>\n",
       "      <td>[0.363, 0.389, 0.168, 0.059000000000000004, 0....</td>\n",
       "      <td>['Completely dissatisfied', 'Rather dissatisfi...</td>\n",
       "    </tr>\n",
       "  </tbody>\n",
       "</table>\n",
       "</div>"
      ],
      "text/plain": [
       "   useimage  usecountry  ques_idx  \\\n",
       "0     False       False         0   \n",
       "1     False       False         0   \n",
       "\n",
       "                                            question  \\\n",
       "0  How satisfied are you with the following?\\n\\nT...   \n",
       "1  How satisfied are you with the following?\\n\\nT...   \n",
       "\n",
       "                   image_id  img_path country  \\\n",
       "0  5d4be99dcf0b3a0f3f348f34       NaN  Jordan   \n",
       "1  5d4be9e3cf0b3a0f3f34976c       NaN  Jordan   \n",
       "\n",
       "                                    top10_token_prob  \\\n",
       "0  [('C', 0.5581640601158142), ('D', 0.2326773852...   \n",
       "1  [('C', 0.5581640601158142), ('D', 0.2326773852...   \n",
       "\n",
       "                                options_prob_percent  \\\n",
       "0  {'A': 5.0, 'B': 6.0, 'C': 56.00000000000001, '...   \n",
       "1  {'A': 5.0, 'B': 6.0, 'C': 56.00000000000001, '...   \n",
       "\n",
       "                                        options_prob  \\\n",
       "0  {'A': 0.047271277755498886, 'B': 0.05975649505...   \n",
       "1  {'A': 0.047271277755498886, 'B': 0.05975649505...   \n",
       "\n",
       "                                    wvs_distribution  \\\n",
       "0  [0.363, 0.389, 0.168, 0.059000000000000004, 0....   \n",
       "1  [0.363, 0.389, 0.168, 0.059000000000000004, 0....   \n",
       "\n",
       "                                              prompt  \\\n",
       "0  Assume the persona of the demography as seen i...   \n",
       "1  Assume the persona of the demography as seen i...   \n",
       "\n",
       "                                   options_prob_list  \\\n",
       "0  [0.047271277755498886, 0.05975649505853653, 0....   \n",
       "1  [0.047271277755498886, 0.05975649505853653, 0....   \n",
       "\n",
       "                               wvs_distribution_list  \\\n",
       "0  [0.363, 0.389, 0.168, 0.059000000000000004, 0....   \n",
       "1  [0.363, 0.389, 0.168, 0.059000000000000004, 0....   \n",
       "\n",
       "                                             options  \n",
       "0  ['Completely dissatisfied', 'Rather dissatisfi...  \n",
       "1  ['Completely dissatisfied', 'Rather dissatisfi...  "
      ]
     },
     "execution_count": 74,
     "metadata": {},
     "output_type": "execute_result"
    }
   ],
   "source": [
    "df_aggregated_2.head(2)"
   ]
  },
  {
   "cell_type": "code",
   "execution_count": 75,
   "metadata": {},
   "outputs": [
    {
     "name": "stderr",
     "output_type": "stream",
     "text": [
      "100%|██████████| 6/6 [00:00<00:00, 579.62it/s]\n"
     ]
    }
   ],
   "source": [
    "# Initialize the new column with empty dictionaries\n",
    "\n",
    "def create_joint_dict(country, df, questions):\n",
    "    \"\"\" This function returns a dict which has questions as keys and distribution for that question as values\"\"\"\n",
    "    joint_dict = {}\n",
    "\n",
    "    breakpoint()\n",
    "    joint_dict[country] = [\n",
    "                            [question, \n",
    "                            df[(df['question'] == question) & (df['country'] == country)]['options_prob_list'].values[0],\n",
    "                            df[(df['question'] == question) & (df['country'] == country)]['wvs_distribution_list'].values[0],\n",
    "                            df[(df['question'] == question) & (df['country'] == country)]['options'].values[0],\n",
    "                            df[(df['question'] == question) & (df['country'] == country)]['img_path'].values[0],\n",
    "                            df[(df['question'] == question) & (df['country'] == country)]['image_id'].values[0]\n",
    "                            ] for question in questions]\n",
    "\n",
    "    return joint_dict\n",
    "\n",
    "\n",
    "def create_joint_dict_all_countries(df1, df2):\n",
    "    countries = df1['country'].unique()\n",
    "    joint_dict_df1 = []\n",
    "    joint_dict_df2 = []\n",
    "    for country in tqdm(countries):\n",
    "        questions = df_1[df_1['country'] == country]['question'].unique()\n",
    "        joint_dict_df1.append(create_joint_dict(country, df1, questions))\n",
    "        joint_dict_df2.append(create_joint_dict(country, df2, questions))\n",
    "\n",
    "    return joint_dict_df1, joint_dict_df2\n",
    "\n",
    "joint_dict_country_df1, joint_dict_country_df2 = create_joint_dict_all_countries(df_aggregated_1, df_aggregated_2)"
   ]
  },
  {
   "cell_type": "code",
   "execution_count": 76,
   "metadata": {},
   "outputs": [],
   "source": [
    "# joint_dict_country_df1"
   ]
  },
  {
   "cell_type": "code",
   "execution_count": 77,
   "metadata": {},
   "outputs": [],
   "source": [
    "# joint_dict_country_df2"
   ]
  },
  {
   "cell_type": "code",
   "execution_count": 78,
   "metadata": {},
   "outputs": [
    {
     "name": "stderr",
     "output_type": "stream",
     "text": [
      "100%|██████████| 6/6 [00:00<00:00, 18504.28it/s]\n",
      "100%|██████████| 6/6 [00:00<00:00, 22369.62it/s]\n"
     ]
    }
   ],
   "source": [
    "import scipy\n",
    "import numpy as np\n",
    "from scipy.spatial.distance import jensenshannon\n",
    "\n",
    "# for each country, calculate jsd for each question. Average the jsd for all questions per country\n",
    "\n",
    "def calculate_jsd(df):\n",
    "    jsd_questions = {}\n",
    "    for country_dict in tqdm(df):\n",
    "        country = list(country_dict.keys())[0]\n",
    "        similarity = [1 -jensenshannon(val[1], val[2]) for country_name, ques_vals in country_dict.items() for val in ques_vals]\n",
    "        # remove nan values\n",
    "        similarity = [val for val in similarity if not np.isnan(val)]\n",
    "        jsd_questions[country] = np.mean(similarity)\n",
    "        # find value 173 in country_dict\n",
    "        # val_173 = [val for val in country_dict[country] if val[0] == 173]\n",
    "    return jsd_questions\n",
    "\n",
    "jsd_country_df1 = calculate_jsd(joint_dict_country_df1)\n",
    "jsd_country_df2 = calculate_jsd(joint_dict_country_df2)"
   ]
  },
  {
   "cell_type": "code",
   "execution_count": 79,
   "metadata": {},
   "outputs": [],
   "source": [
    "# jsd_country_df1"
   ]
  },
  {
   "cell_type": "code",
   "execution_count": 80,
   "metadata": {},
   "outputs": [
    {
     "data": {
      "image/png": "[encoded data removed]",
      "text/plain": [
       "<Figure size 1000x2000 with 1 Axes>"
      ]
     },
     "metadata": {},
     "output_type": "display_data"
    }
   ],
   "source": [
    "# Plot the jsd values for each country side by side in bar chart\n",
    "# make country as y-axis and jsd as x-axis\n",
    "\n",
    "import matplotlib.pyplot as plt\n",
    "\n",
    "def plot_jsd(jsd_country_df1, jsd_country_df2):\n",
    "    fig, ax = plt.subplots( figsize=(10, 20))\n",
    "    # make country as y-axis and jsd as x-axis\n",
    "    countries = list(jsd_country_df1.keys())\n",
    "    jsd_values_df1 = list(jsd_country_df1.values())\n",
    "    jsd_values_df2 = list(jsd_country_df2.values())\n",
    "    x = np.arange(len(countries))\n",
    "    width = 0.35\n",
    "\n",
    "    # add the jsd values at the end of the bar\n",
    "    for i, v in enumerate(jsd_values_df1):\n",
    "        ax.text(v, i, str(round(v, 2)), color='blue', fontsize=8)\n",
    "    # text is not alligned properly. make it a little down\n",
    "    for i, v in enumerate(jsd_values_df2):\n",
    "        ax.text(v, i-0.35, str(round(v, 2)), color='red', fontsize=8)\n",
    "\n",
    "    ax.barh(x + width/2, jsd_values_df1, width, label=setting_1)\n",
    "    ax.barh(x - width/2, jsd_values_df2, width, label=setting_2)\n",
    "\n",
    "    ax.set_xlabel('Similarity (1-JSD)')\n",
    "    ax.set_ylabel('Country')\n",
    "    ax.set_yticks(x)\n",
    "    ax.set_yticklabels(countries, fontsize=10)\n",
    "    ax.legend()\n",
    "    plt.tight_layout() # to make sure the labels are not cut off\n",
    "    plt.show()\n",
    "\n",
    "plot_jsd(jsd_country_df1, jsd_country_df2)"
   ]
  },
  {
   "cell_type": "code",
   "execution_count": 81,
   "metadata": {},
   "outputs": [
    {
     "data": {
      "image/png": "[encoded data removed]",
      "text/plain": [
       "<Figure size 1500x2000 with 1 Axes>"
      ]
     },
     "metadata": {},
     "output_type": "display_data"
    }
   ],
   "source": [
    "\n",
    "def plot_jsd_difference(jsd_country_df1, jsd_country_df2):\n",
    "    # Calculate the JSD difference\n",
    "    jsd_diff = {country: jsd_country_df1[country] - jsd_country_df2[country] for country in jsd_country_df1.keys()}\n",
    "    jsd_diff = dict(sorted(jsd_diff.items(), key=lambda item: item[1], reverse=True))\n",
    "\n",
    "    countries = list(jsd_diff.keys())\n",
    "    jsd_diff_values = list(jsd_diff.values())\n",
    "    x = np.arange(len(countries))\n",
    "\n",
    "    # Create the plot\n",
    "    fig, ax = plt.subplots(figsize=(15, 20))\n",
    "    bars = ax.barh(x, jsd_diff_values, color='blue')\n",
    "    \n",
    "    # Set labels\n",
    "    ax.set_xlabel(f'Similarity Difference ({setting_1} - {setting_2})')\n",
    "    ax.set_ylabel('Country')\n",
    "\n",
    "    # Remove the y-ticks and labels (we will add custom labels)\n",
    "    ax.set_yticks([])\n",
    "    \n",
    "    # Move the y-axis to x=0\n",
    "    ax.spines['left'].set_position(('data', 0))  # Move the left spine to x=0\n",
    "\n",
    "    # Customize the grid and ticks\n",
    "    ax.xaxis.grid(True)\n",
    "    ax.tick_params(axis='y', which='both', left=True, right=False)\n",
    "\n",
    "    # Add sim values and country names at the end of the bars\n",
    "    for i, bar in enumerate(bars):\n",
    "        width = bar.get_width()\n",
    "        country_name = countries[i]\n",
    "        if width < 0:\n",
    "            # Bar extends to the left\n",
    "            ax.text(width, bar.get_y() + bar.get_height() / 2, f'{country_name} ({width:.3f})',\n",
    "                    va='center', ha='right', color='black', fontsize=12)\n",
    "        else:\n",
    "            # Bar extends to the right\n",
    "            ax.text(width, bar.get_y() + bar.get_height() / 2, f'({width:.3f}) {country_name}', \n",
    "                    va='center', ha='left', color='black', fontsize=12)\n",
    "\n",
    "    # Show the plot\n",
    "    plt.show()\n",
    "\n",
    "plot_jsd_difference(jsd_country_df1, jsd_country_df2)"
   ]
  },
  {
   "cell_type": "code",
   "execution_count": 82,
   "metadata": {},
   "outputs": [
    {
     "data": {
      "text/plain": [
       "0.17332931375220653"
      ]
     },
     "execution_count": 82,
     "metadata": {},
     "output_type": "execute_result"
    }
   ],
   "source": [
    "a = [0, 0.2, 0.8, 0]\n",
    "b = [0.1, 0.2, 0.9, 0]\n",
    "ans = jensenshannon(a, b)\n",
    "ans"
   ]
  },
  {
   "cell_type": "code",
   "execution_count": 83,
   "metadata": {},
   "outputs": [
    {
     "name": "stderr",
     "output_type": "stream",
     "text": [
      "100%|██████████| 6/6 [00:00<00:00, 23674.34it/s]\n",
      "100%|██████████| 6/6 [00:00<00:00, 28760.94it/s]\n"
     ]
    }
   ],
   "source": [
    "import scipy, copy\n",
    "import numpy as np\n",
    "from scipy.spatial.distance import jensenshannon\n",
    "\n",
    "# for each country, calculate jsd for each question and add the similarity value to the list\n",
    "def add_jsd_tolist(joint_dict_country_wvs_options):\n",
    "    for country_dict in tqdm(joint_dict_country_wvs_options):\n",
    "        country = list(country_dict.keys())[0]\n",
    "        for ques_vals in country_dict[country]:\n",
    "            question, dist1, dist2 = ques_vals[0], np.array(ques_vals[1]), np.array(ques_vals[2])\n",
    "            similarity = 1 - jensenshannon(dist1, dist2)\n",
    "            breakpoint()\n",
    "            ques_vals.append(similarity)\n",
    "\n",
    "    return joint_dict_country_wvs_options\n",
    "\n",
    "joint_dict_df1 = copy.deepcopy(joint_dict_country_df1)\n",
    "joint_dict_df2 = copy.deepcopy(joint_dict_country_df2)\n",
    "\n",
    "jsd_df1 = add_jsd_tolist(joint_dict_df1)\n",
    "jsd_df2 = add_jsd_tolist(joint_dict_df2)"
   ]
  },
  {
   "cell_type": "code",
   "execution_count": 84,
   "metadata": {},
   "outputs": [],
   "source": [
    "# jsd_df1"
   ]
  },
  {
   "cell_type": "code",
   "execution_count": 85,
   "metadata": {},
   "outputs": [
    {
     "name": "stdout",
     "output_type": "stream",
     "text": [
      "{'Jordan': [0.5250636657582002, 0.5250636657582002, 0.5250636657582002], 'Lebanon': [0.6750738243091094, 0.6750738243091094, 0.6750738243091094], 'Egypt': [0.5491313073290819, 0.5491313073290819, 0.5491313073290819], 'Zimbabwe': [0.6904137531502657, 0.6904137531502657, 0.6904137531502657], 'Kenya': [0.6639405392685307, 0.6639405392685307, 0.6639405392685307], 'Ethiopia': [0.6128580058630002, 0.6128580058630002, 0.6128580058630002]}\n",
      "{'Jordan': [0.5155776118810975, 0.5155776118810975, 0.5155776118810975], 'Lebanon': [0.661060404027983, 0.661060404027983, 0.661060404027983], 'Egypt': [0.5292005957455334, 0.5292005957455334, 0.5292005957455334], 'Zimbabwe': [0.6474171613291728, 0.6474171613291728, 0.6474171613291728], 'Kenya': [0.6368760725342535, 0.6368760725342535, 0.6368760725342535], 'Ethiopia': [0.6303582099304523, 0.6303582099304523, 0.6303582099304523]}\n"
     ]
    }
   ],
   "source": [
    "# remove nan values\n",
    "jsd_values_df1 = {country: [val[6] for val in jsd_dict[country] if not np.isnan(val[6])] for jsd_dict in jsd_df1 for country, jsd_vals in jsd_dict.items()}\n",
    "jsd_values_df2 = {country: [val[6] for val in jsd_dict[country] if not np.isnan(val[6])] for jsd_dict in jsd_df2 for country, jsd_vals in jsd_dict.items()}\n",
    "\n",
    "# # calculate the mean of jsd values per country\n",
    "jsd_min_max_mean_df1 = {country: [np.min(val), np.max(val), np.mean(val)] for country, val in jsd_values_df1.items()}\n",
    "jsd_min_max_mean_df2 = {country: [np.min(val), np.max(val), np.mean(val)] for country, val in jsd_values_df2.items()}\n",
    "\n",
    "print(jsd_min_max_mean_df1)\n",
    "print(jsd_min_max_mean_df2)"
   ]
  },
  {
   "cell_type": "code",
   "execution_count": 86,
   "metadata": {},
   "outputs": [
    {
     "name": "stderr",
     "output_type": "stream",
     "text": [
      "100%|██████████| 6/6 [00:00<00:00, 241979.08it/s]\n",
      "100%|██████████| 6/6 [00:00<00:00, 174762.67it/s]"
     ]
    },
    {
     "name": "stdout",
     "output_type": "stream",
     "text": [
      " JSD values <= 0.3: {'Jordan': [], 'Lebanon': [], 'Egypt': [], 'Zimbabwe': [], 'Kenya': [], 'Ethiopia': []}\n",
      "DF1: sum of values <= 0.3: 0\n",
      "DF1: sum of values >= 0.8: 0\n",
      "DF2: sum of values <= 0.3: 0\n",
      "DF2: sum of values >= 0.8: 0\n"
     ]
    },
    {
     "name": "stderr",
     "output_type": "stream",
     "text": [
      "\n"
     ]
    }
   ],
   "source": [
    "# split jsd_selected_df1 such that one has questions etc with similarity  <= 0.5 and other has > 0.5\n",
    "# do this for all countries\n",
    "low_threshold = 0.3\n",
    "high_threshold = 0.8\n",
    "\n",
    "def split_jsd(values):\n",
    "    jsd_low_split = {}\n",
    "    jsd_high_split = {}\n",
    "    for country_dict in tqdm(values):\n",
    "        country = list(country_dict.keys())[0]\n",
    "        jsd_low = []; jsd_high = []; \n",
    "        for ques_vals in country_dict[country]:\n",
    "            if ques_vals[6] <= low_threshold:\n",
    "                breakpoint()\n",
    "                jsd_low.append(ques_vals.copy())\n",
    "\n",
    "            elif ques_vals[6] >= high_threshold:\n",
    "                jsd_high.append(ques_vals.copy())\n",
    "        \n",
    "        jsd_low_split[country] = jsd_low\n",
    "        jsd_high_split[country] = jsd_high\n",
    "        \n",
    "    return jsd_low_split, jsd_high_split\n",
    "\n",
    "jsd_low_split_df1, jsd_high_split_df1 = split_jsd(jsd_df1)\n",
    "jsd_low_split_df2, jsd_high_split_df2 = split_jsd(jsd_df2)\n",
    "\n",
    "print(f\" JSD values <= {low_threshold}: {jsd_low_split_df1}\")\n",
    "\n",
    "print(f\"DF1: sum of values <= {low_threshold}: {sum([len(val) for val in jsd_low_split_df1.values()])}\")\n",
    "print(f\"DF1: sum of values >= {high_threshold}: {sum([len(val) for val in jsd_high_split_df1.values()])}\")\n",
    "\n",
    "print(f\"DF2: sum of values <= {low_threshold}: {sum([len(val) for val in jsd_low_split_df2.values()])}\")\n",
    "print(f\"DF2: sum of values >= {high_threshold}: {sum([len(val) for val in jsd_high_split_df2.values()])}\")"
   ]
  },
  {
   "cell_type": "code",
   "execution_count": 87,
   "metadata": {},
   "outputs": [],
   "source": [
    "# jsd_low_split_df1['Iran']"
   ]
  },
  {
   "cell_type": "code",
   "execution_count": 88,
   "metadata": {},
   "outputs": [
    {
     "name": "stdout",
     "output_type": "stream",
     "text": [
      "{'Jordan': 0, 'Lebanon': 0, 'Egypt': 0, 'Zimbabwe': 0, 'Kenya': 0, 'Ethiopia': 0}\n"
     ]
    }
   ],
   "source": [
    "# find the common questions in both low similarity for df1 and df2\n",
    "# questions for first value of the list of lists\n",
    "\n",
    "def get_common_questions(df1, df2):\n",
    "    common_questions = {}\n",
    "    for country in df1.keys():\n",
    "        questions_df1 = [val[0] for val in df1[country]]\n",
    "        questions_df2 = [val[0] for val in df2[country]]\n",
    "        breakpoint()\n",
    "        common_questions[country] = set(questions_df1).intersection(set(questions_df2))\n",
    "    return common_questions\n",
    "\n",
    "common_questions = get_common_questions(jsd_low_split_df1, jsd_low_split_df2)\n",
    "common_questions_count = {key: len(value) for key, value in common_questions.items()}\n",
    "print(common_questions_count)"
   ]
  },
  {
   "cell_type": "code",
   "execution_count": null,
   "metadata": {},
   "outputs": [],
   "source": []
  }
 ],
 "metadata": {
  "kernelspec": {
   "display_name": "cultural_values",
   "language": "python",
   "name": "python3"
  },
  "language_info": {
   "codemirror_mode": {
    "name": "ipython",
    "version": 3
   },
   "file_extension": ".py",
   "mimetype": "text/x-python",
   "name": "python",
   "nbconvert_exporter": "python",
   "pygments_lexer": "ipython3",
   "version": "3.10.12"
  }
 },
 "nbformat": 4,
 "nbformat_minor": 2
}
