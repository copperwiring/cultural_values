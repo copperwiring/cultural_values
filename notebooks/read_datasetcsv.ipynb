{
 "cells": [
  {
   "cell_type": "code",
   "execution_count": 2,
   "metadata": {},
   "outputs": [],
   "source": [
    "import os\n",
    "import pandas as pd\n",
    "import numpy as np"
   ]
  },
  {
   "cell_type": "code",
   "execution_count": 4,
   "metadata": {},
   "outputs": [
    {
     "data": {
      "text/plain": [
       "['ds_people.csv',\n",
       " 'cvqa_Pakistan.csv',\n",
       " 'cvqa_Russia.csv',\n",
       " 'cvqa_Nigeria.csv',\n",
       " 'cvqa_Brazil.csv',\n",
       " 'cvqa_Ethiopia.csv',\n",
       " 'cvqa_Kenya.csv',\n",
       " 'cvqa_Philippines.csv',\n",
       " 'cvqa_France.csv',\n",
       " 'cvqa_Mexico.csv',\n",
       " 'cvqa_Mongolia.csv',\n",
       " 'cvqa_South Korea.csv',\n",
       " 'cvqa_Romania.csv',\n",
       " 'cvqa_Indonesia.csv',\n",
       " 'cvqa_Egypt.csv',\n",
       " 'cvqa_Spain.csv',\n",
       " 'cvqa_Colombia.csv',\n",
       " 'cvqa_China.csv']"
      ]
     },
     "execution_count": 4,
     "metadata": {},
     "output_type": "execute_result"
    }
   ],
   "source": [
    "data_dir = \"../created_csv_data\"\n",
    "data_files = os.listdir(data_dir)\n",
    "data_files = [f for f in data_files if f.endswith(\".csv\")]\n",
    "\n",
    "data_files"
   ]
  },
  {
   "cell_type": "code",
   "execution_count": null,
   "metadata": {},
   "outputs": [],
   "source": []
  }
 ],
 "metadata": {
  "kernelspec": {
   "display_name": "culture-values",
   "language": "python",
   "name": "python3"
  },
  "language_info": {
   "codemirror_mode": {
    "name": "ipython",
    "version": 3
   },
   "file_extension": ".py",
   "mimetype": "text/x-python",
   "name": "python",
   "nbconvert_exporter": "python",
   "pygments_lexer": "ipython3",
   "version": "3.9.9"
  }
 },
 "nbformat": 4,
 "nbformat_minor": 2
}
