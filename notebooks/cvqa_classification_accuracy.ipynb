{
 "cells": [
  {
   "cell_type": "code",
   "execution_count": 48,
   "metadata": {},
   "outputs": [],
   "source": [
    "import os\n",
    "import pandas as pd\n",
    "from pathlib import Path"
   ]
  },
  {
   "cell_type": "code",
   "execution_count": 49,
   "metadata": {},
   "outputs": [],
   "source": [
    "# classification_output = Path(\"/home/vsl333/cultural_values/datasets/cvqa_images/output.jsonl\")\n",
    "# classification_output = Path(\"/home/vsl333/cultural_values/datasets/cvqa_images/llava-1.5-7b-hf_output.jsonl\")\n",
    "classification_output = Path(\"/home/vsl333/cultural_values/datasets/cvqa_images/llava-1.5-13b-hf_output.jsonl\")\n",
    "\n",
    "output_df = pd.read_json(classification_output, lines=True)"
   ]
  },
  {
   "cell_type": "code",
   "execution_count": null,
   "metadata": {},
   "outputs": [],
   "source": [
    "output_df.head(2)"
   ]
  },
  {
   "cell_type": "code",
   "execution_count": 50,
   "metadata": {},
   "outputs": [
    {
     "name": "stdout",
     "output_type": "stream",
     "text": [
      "Before: (105, 5), After: (79, 5)\n"
     ]
    },
    {
     "data": {
      "text/html": [
       "<div>\n",
       "<style scoped>\n",
       "    .dataframe tbody tr th:only-of-type {\n",
       "        vertical-align: middle;\n",
       "    }\n",
       "\n",
       "    .dataframe tbody tr th {\n",
       "        vertical-align: top;\n",
       "    }\n",
       "\n",
       "    .dataframe thead th {\n",
       "        text-align: right;\n",
       "    }\n",
       "</style>\n",
       "<table border=\"1\" class=\"dataframe\">\n",
       "  <thead>\n",
       "    <tr style=\"text-align: right;\">\n",
       "      <th></th>\n",
       "      <th>caption</th>\n",
       "      <th>top-choice</th>\n",
       "      <th>top-choice-reason</th>\n",
       "      <th>image_path</th>\n",
       "      <th>gt-country</th>\n",
       "    </tr>\n",
       "  </thead>\n",
       "  <tbody>\n",
       "    <tr>\n",
       "      <th>1</th>\n",
       "      <td>The image features a parade float with lions, which is a common symbol in Brazilian culture. The presence of a large crowd watching the parade also suggests that this event is taking place in Brazil.</td>\n",
       "      <td>Brazil</td>\n",
       "      <td>The lions on the float and the large crowd watching the parade are indicative of Brazilian culture and traditions.</td>\n",
       "      <td>/home/vsl333/cultural_values/datasets/cvqa_images/Brazil/tradition/carnaval.jpg</td>\n",
       "      <td>Brazil</td>\n",
       "    </tr>\n",
       "    <tr>\n",
       "      <th>2</th>\n",
       "      <td>A group of men wearing green and yellow jerseys holding a trophy and a banner that says 'World League 2008 Champions'</td>\n",
       "      <td>Brazil</td>\n",
       "      <td>The men are wearing green and yellow jerseys, which are the colors of the Brazilian national soccer team. The banner also indicates that they won the World League in 2008.</td>\n",
       "      <td>/home/vsl333/cultural_values/datasets/cvqa_images/Brazil/sports_and_recreation/football.jpg</td>\n",
       "      <td>Brazil</td>\n",
       "    </tr>\n",
       "  </tbody>\n",
       "</table>\n",
       "</div>"
      ],
      "text/plain": [
       "                                                                                                                                                                                                   caption  \\\n",
       "1  The image features a parade float with lions, which is a common symbol in Brazilian culture. The presence of a large crowd watching the parade also suggests that this event is taking place in Brazil.   \n",
       "2                                                                                    A group of men wearing green and yellow jerseys holding a trophy and a banner that says 'World League 2008 Champions'   \n",
       "\n",
       "  top-choice  \\\n",
       "1     Brazil   \n",
       "2     Brazil   \n",
       "\n",
       "                                                                                                                                                             top-choice-reason  \\\n",
       "1                                                           The lions on the float and the large crowd watching the parade are indicative of Brazilian culture and traditions.   \n",
       "2  The men are wearing green and yellow jerseys, which are the colors of the Brazilian national soccer team. The banner also indicates that they won the World League in 2008.   \n",
       "\n",
       "                                                                                    image_path  \\\n",
       "1              /home/vsl333/cultural_values/datasets/cvqa_images/Brazil/tradition/carnaval.jpg   \n",
       "2  /home/vsl333/cultural_values/datasets/cvqa_images/Brazil/sports_and_recreation/football.jpg   \n",
       "\n",
       "  gt-country  \n",
       "1     Brazil  \n",
       "2     Brazil  "
      ]
     },
     "execution_count": 50,
     "metadata": {},
     "output_type": "execute_result"
    }
   ],
   "source": [
    "# remove column: plants_and_animals and vehicle_and_transportation\n",
    "# selected_df = output_df.drop(columns=['plants_and_animals', 'vehicle_and_transportation'])\n",
    "selected_df = output_df[~output_df['image_path'].apply(lambda x: x.split(\"/\")[-2]).isin(['plants_and_animals', 'vehicle_and_transportation'])]\n",
    "\n",
    "# remove South Korea from country \n",
    "selected_df = selected_df[~selected_df['gt-country'].str.contains(\"South Korea\")]\n",
    "print(f\"Before: {output_df.shape}, After: {selected_df.shape}\")\n",
    "selected_df.head(2)"
   ]
  },
  {
   "cell_type": "code",
   "execution_count": 51,
   "metadata": {},
   "outputs": [
    {
     "data": {
      "text/plain": [
       "array(['Brazil', 'Vietnam', 'Mexico', 'France', 'Nigeria', 'Italy',\n",
       "       'Pakistan', 'South Africa', 'United States', 'China'], dtype=object)"
      ]
     },
     "execution_count": 51,
     "metadata": {},
     "output_type": "execute_result"
    }
   ],
   "source": [
    "# Dollarstreet has: Brazil, Bangladesh, India, Nigeria, Pakistan, South Africa, United States, China \n",
    "selected_df['gt-country'].unique()"
   ]
  },
  {
   "cell_type": "code",
   "execution_count": 52,
   "metadata": {},
   "outputs": [],
   "source": [
    "# compute accuracy if top 3 choices are in the ground truth country\n",
    "# do it per unique gt_country \n",
    "\n",
    "unique_gt_countries = selected_df[\"gt-country\"].unique()\n",
    "\n",
    "accurate_img_dict = {}\n",
    "for idx, row in selected_df.iterrows():\n",
    "    if row[\"gt-country\"] == row[\"top-choice\"]:\n",
    "        accurate_img_dict[idx] = {\"image_path\": row[\"image_path\"], \"prediction\": \"Correct\", \"gt_country\": row[\"gt-country\"],         \"top-choice\": row[\"top-choice\"]}\n",
    "    else:\n",
    "        accurate_img_dict[idx] = {\"image_path\": row[\"image_path\"], \"prediction\": \"Incorrect\", \"gt_country\": row[\"gt-country\"],\n",
    "                                            \"top-choice\": row[\"top-choice\"]}\n",
    "\n",
    "accurate_img_df = pd.DataFrame(accurate_img_dict).T"
   ]
  },
  {
   "cell_type": "code",
   "execution_count": 53,
   "metadata": {},
   "outputs": [
    {
     "name": "stdout",
     "output_type": "stream",
     "text": [
      "shape: (79, 4)\n"
     ]
    },
    {
     "data": {
      "text/html": [
       "<div>\n",
       "<style scoped>\n",
       "    .dataframe tbody tr th:only-of-type {\n",
       "        vertical-align: middle;\n",
       "    }\n",
       "\n",
       "    .dataframe tbody tr th {\n",
       "        vertical-align: top;\n",
       "    }\n",
       "\n",
       "    .dataframe thead th {\n",
       "        text-align: right;\n",
       "    }\n",
       "</style>\n",
       "<table border=\"1\" class=\"dataframe\">\n",
       "  <thead>\n",
       "    <tr style=\"text-align: right;\">\n",
       "      <th></th>\n",
       "      <th>image_path</th>\n",
       "      <th>prediction</th>\n",
       "      <th>gt_country</th>\n",
       "      <th>top-choice</th>\n",
       "    </tr>\n",
       "  </thead>\n",
       "  <tbody>\n",
       "    <tr>\n",
       "      <th>9</th>\n",
       "      <td>/home/vsl333/cultural_values/datasets/cvqa_images/Brazil/Brands/guarana.jpg</td>\n",
       "      <td>Correct</td>\n",
       "      <td>Brazil</td>\n",
       "      <td>Brazil</td>\n",
       "    </tr>\n",
       "    <tr>\n",
       "      <th>8</th>\n",
       "      <td>/home/vsl333/cultural_values/datasets/cvqa_images/Brazil/Cooking_and_food/churrasco.jpg</td>\n",
       "      <td>Correct</td>\n",
       "      <td>Brazil</td>\n",
       "      <td>Brazil</td>\n",
       "    </tr>\n",
       "    <tr>\n",
       "      <th>7</th>\n",
       "      <td>/home/vsl333/cultural_values/datasets/cvqa_images/Brazil/Geography/cidade_maravilhosa.jpg</td>\n",
       "      <td>Correct</td>\n",
       "      <td>Brazil</td>\n",
       "      <td>Brazil</td>\n",
       "    </tr>\n",
       "  </tbody>\n",
       "</table>\n",
       "</div>"
      ],
      "text/plain": [
       "                                                                                  image_path  \\\n",
       "9                /home/vsl333/cultural_values/datasets/cvqa_images/Brazil/Brands/guarana.jpg   \n",
       "8    /home/vsl333/cultural_values/datasets/cvqa_images/Brazil/Cooking_and_food/churrasco.jpg   \n",
       "7  /home/vsl333/cultural_values/datasets/cvqa_images/Brazil/Geography/cidade_maravilhosa.jpg   \n",
       "\n",
       "  prediction gt_country top-choice  \n",
       "9    Correct     Brazil     Brazil  \n",
       "8    Correct     Brazil     Brazil  \n",
       "7    Correct     Brazil     Brazil  "
      ]
     },
     "execution_count": 53,
     "metadata": {},
     "output_type": "execute_result"
    }
   ],
   "source": [
    "accurate_img_df = accurate_img_df.sort_values(by='image_path')\n",
    "pd.set_option('display.max_colwidth', 200)\n",
    "print(f\"shape: {accurate_img_df.shape}\")\n",
    "accurate_img_df.head(3)"
   ]
  },
  {
   "cell_type": "markdown",
   "metadata": {},
   "source": [
    "### Find all correct ones"
   ]
  },
  {
   "cell_type": "code",
   "execution_count": 54,
   "metadata": {},
   "outputs": [
    {
     "name": "stdout",
     "output_type": "stream",
     "text": [
      "shape: (70, 4)\n"
     ]
    },
    {
     "data": {
      "text/html": [
       "<div>\n",
       "<style scoped>\n",
       "    .dataframe tbody tr th:only-of-type {\n",
       "        vertical-align: middle;\n",
       "    }\n",
       "\n",
       "    .dataframe tbody tr th {\n",
       "        vertical-align: top;\n",
       "    }\n",
       "\n",
       "    .dataframe thead th {\n",
       "        text-align: right;\n",
       "    }\n",
       "</style>\n",
       "<table border=\"1\" class=\"dataframe\">\n",
       "  <thead>\n",
       "    <tr style=\"text-align: right;\">\n",
       "      <th></th>\n",
       "      <th>image_path</th>\n",
       "      <th>prediction</th>\n",
       "      <th>gt_country</th>\n",
       "      <th>top-choice</th>\n",
       "    </tr>\n",
       "  </thead>\n",
       "  <tbody>\n",
       "    <tr>\n",
       "      <th>9</th>\n",
       "      <td>/home/vsl333/cultural_values/datasets/cvqa_images/Brazil/Brands/guarana.jpg</td>\n",
       "      <td>Correct</td>\n",
       "      <td>Brazil</td>\n",
       "      <td>Brazil</td>\n",
       "    </tr>\n",
       "    <tr>\n",
       "      <th>8</th>\n",
       "      <td>/home/vsl333/cultural_values/datasets/cvqa_images/Brazil/Cooking_and_food/churrasco.jpg</td>\n",
       "      <td>Correct</td>\n",
       "      <td>Brazil</td>\n",
       "      <td>Brazil</td>\n",
       "    </tr>\n",
       "    <tr>\n",
       "      <th>7</th>\n",
       "      <td>/home/vsl333/cultural_values/datasets/cvqa_images/Brazil/Geography/cidade_maravilhosa.jpg</td>\n",
       "      <td>Correct</td>\n",
       "      <td>Brazil</td>\n",
       "      <td>Brazil</td>\n",
       "    </tr>\n",
       "    <tr>\n",
       "      <th>6</th>\n",
       "      <td>/home/vsl333/cultural_values/datasets/cvqa_images/Brazil/Objects/gifts.jpg</td>\n",
       "      <td>Correct</td>\n",
       "      <td>Brazil</td>\n",
       "      <td>Brazil</td>\n",
       "    </tr>\n",
       "    <tr>\n",
       "      <th>5</th>\n",
       "      <td>/home/vsl333/cultural_values/datasets/cvqa_images/Brazil/People_and_everyday_life/lula-parade-1024x683-1.jpeg</td>\n",
       "      <td>Correct</td>\n",
       "      <td>Brazil</td>\n",
       "      <td>Brazil</td>\n",
       "    </tr>\n",
       "    <tr>\n",
       "      <th>2</th>\n",
       "      <td>/home/vsl333/cultural_values/datasets/cvqa_images/Brazil/sports_and_recreation/football.jpg</td>\n",
       "      <td>Correct</td>\n",
       "      <td>Brazil</td>\n",
       "      <td>Brazil</td>\n",
       "    </tr>\n",
       "    <tr>\n",
       "      <th>1</th>\n",
       "      <td>/home/vsl333/cultural_values/datasets/cvqa_images/Brazil/tradition/carnaval.jpg</td>\n",
       "      <td>Correct</td>\n",
       "      <td>Brazil</td>\n",
       "      <td>Brazil</td>\n",
       "    </tr>\n",
       "    <tr>\n",
       "      <th>104</th>\n",
       "      <td>/home/vsl333/cultural_values/datasets/cvqa_images/China/Brands/cigarette.jpg</td>\n",
       "      <td>Correct</td>\n",
       "      <td>China</td>\n",
       "      <td>China</td>\n",
       "    </tr>\n",
       "    <tr>\n",
       "      <th>103</th>\n",
       "      <td>/home/vsl333/cultural_values/datasets/cvqa_images/China/Cooking_and_food/breakfast.jpg</td>\n",
       "      <td>Correct</td>\n",
       "      <td>China</td>\n",
       "      <td>China</td>\n",
       "    </tr>\n",
       "    <tr>\n",
       "      <th>102</th>\n",
       "      <td>/home/vsl333/cultural_values/datasets/cvqa_images/China/Geography/wall.jpeg</td>\n",
       "      <td>Correct</td>\n",
       "      <td>China</td>\n",
       "      <td>China</td>\n",
       "    </tr>\n",
       "  </tbody>\n",
       "</table>\n",
       "</div>"
      ],
      "text/plain": [
       "                                                                                                        image_path  \\\n",
       "9                                      /home/vsl333/cultural_values/datasets/cvqa_images/Brazil/Brands/guarana.jpg   \n",
       "8                          /home/vsl333/cultural_values/datasets/cvqa_images/Brazil/Cooking_and_food/churrasco.jpg   \n",
       "7                        /home/vsl333/cultural_values/datasets/cvqa_images/Brazil/Geography/cidade_maravilhosa.jpg   \n",
       "6                                       /home/vsl333/cultural_values/datasets/cvqa_images/Brazil/Objects/gifts.jpg   \n",
       "5    /home/vsl333/cultural_values/datasets/cvqa_images/Brazil/People_and_everyday_life/lula-parade-1024x683-1.jpeg   \n",
       "2                      /home/vsl333/cultural_values/datasets/cvqa_images/Brazil/sports_and_recreation/football.jpg   \n",
       "1                                  /home/vsl333/cultural_values/datasets/cvqa_images/Brazil/tradition/carnaval.jpg   \n",
       "104                                   /home/vsl333/cultural_values/datasets/cvqa_images/China/Brands/cigarette.jpg   \n",
       "103                         /home/vsl333/cultural_values/datasets/cvqa_images/China/Cooking_and_food/breakfast.jpg   \n",
       "102                                    /home/vsl333/cultural_values/datasets/cvqa_images/China/Geography/wall.jpeg   \n",
       "\n",
       "    prediction gt_country top-choice  \n",
       "9      Correct     Brazil     Brazil  \n",
       "8      Correct     Brazil     Brazil  \n",
       "7      Correct     Brazil     Brazil  \n",
       "6      Correct     Brazil     Brazil  \n",
       "5      Correct     Brazil     Brazil  \n",
       "2      Correct     Brazil     Brazil  \n",
       "1      Correct     Brazil     Brazil  \n",
       "104    Correct      China      China  \n",
       "103    Correct      China      China  \n",
       "102    Correct      China      China  "
      ]
     },
     "execution_count": 54,
     "metadata": {},
     "output_type": "execute_result"
    }
   ],
   "source": [
    "correct_df = accurate_img_df[accurate_img_df[\"prediction\"] == \"Correct\"]\n",
    "print(f\"shape: {correct_df.shape}\")\n",
    "correct_df.head(10)"
   ]
  },
  {
   "cell_type": "markdown",
   "metadata": {},
   "source": [
    "### Find all incorrect ones"
   ]
  },
  {
   "cell_type": "code",
   "execution_count": 55,
   "metadata": {},
   "outputs": [
    {
     "name": "stdout",
     "output_type": "stream",
     "text": [
      "shape: (9, 4)\n"
     ]
    },
    {
     "data": {
      "text/html": [
       "<div>\n",
       "<style scoped>\n",
       "    .dataframe tbody tr th:only-of-type {\n",
       "        vertical-align: middle;\n",
       "    }\n",
       "\n",
       "    .dataframe tbody tr th {\n",
       "        vertical-align: top;\n",
       "    }\n",
       "\n",
       "    .dataframe thead th {\n",
       "        text-align: right;\n",
       "    }\n",
       "</style>\n",
       "<table border=\"1\" class=\"dataframe\">\n",
       "  <thead>\n",
       "    <tr style=\"text-align: right;\">\n",
       "      <th></th>\n",
       "      <th>image_path</th>\n",
       "      <th>prediction</th>\n",
       "      <th>gt_country</th>\n",
       "      <th>top-choice</th>\n",
       "    </tr>\n",
       "  </thead>\n",
       "  <tbody>\n",
       "    <tr>\n",
       "      <th>3</th>\n",
       "      <td>/home/vsl333/cultural_values/datasets/cvqa_images/Brazil/public_figure_and_pop_culture/pele.jpg</td>\n",
       "      <td>Incorrect</td>\n",
       "      <td>Brazil</td>\n",
       "      <td>Nigeria</td>\n",
       "    </tr>\n",
       "    <tr>\n",
       "      <th>30</th>\n",
       "      <td>/home/vsl333/cultural_values/datasets/cvqa_images/France/tradition/french-republic.jpg</td>\n",
       "      <td>Incorrect</td>\n",
       "      <td>France</td>\n",
       "      <td>United Kingdom</td>\n",
       "    </tr>\n",
       "    <tr>\n",
       "      <th>46</th>\n",
       "      <td>/home/vsl333/cultural_values/datasets/cvqa_images/Nigeria/Brands/dangote-logo.png</td>\n",
       "      <td>Incorrect</td>\n",
       "      <td>Nigeria</td>\n",
       "      <td>United States</td>\n",
       "    </tr>\n",
       "    <tr>\n",
       "      <th>44</th>\n",
       "      <td>/home/vsl333/cultural_values/datasets/cvqa_images/Nigeria/Geography/Tinubu_Square.png</td>\n",
       "      <td>Incorrect</td>\n",
       "      <td>Nigeria</td>\n",
       "      <td>France</td>\n",
       "    </tr>\n",
       "    <tr>\n",
       "      <th>75</th>\n",
       "      <td>/home/vsl333/cultural_values/datasets/cvqa_images/Pakistan/Cooking_and_food/pakistain-food-beef-nihari.png</td>\n",
       "      <td>Incorrect</td>\n",
       "      <td>Pakistan</td>\n",
       "      <td>France</td>\n",
       "    </tr>\n",
       "    <tr>\n",
       "      <th>84</th>\n",
       "      <td>/home/vsl333/cultural_values/datasets/cvqa_images/South Africa/Cooking_and_food/food.jpg</td>\n",
       "      <td>Incorrect</td>\n",
       "      <td>South Africa</td>\n",
       "      <td>Nigeria</td>\n",
       "    </tr>\n",
       "    <tr>\n",
       "      <th>82</th>\n",
       "      <td>/home/vsl333/cultural_values/datasets/cvqa_images/South Africa/Objects/south-africa-object-chakalaka.jpg</td>\n",
       "      <td>Incorrect</td>\n",
       "      <td>South Africa</td>\n",
       "      <td>France</td>\n",
       "    </tr>\n",
       "    <tr>\n",
       "      <th>81</th>\n",
       "      <td>/home/vsl333/cultural_values/datasets/cvqa_images/South Africa/People_and_everyday_life/people.jpg</td>\n",
       "      <td>Incorrect</td>\n",
       "      <td>South Africa</td>\n",
       "      <td>Nigeria</td>\n",
       "    </tr>\n",
       "    <tr>\n",
       "      <th>78</th>\n",
       "      <td>/home/vsl333/cultural_values/datasets/cvqa_images/South Africa/tradition/south-africa-tradition-zulu.jpg</td>\n",
       "      <td>Incorrect</td>\n",
       "      <td>South Africa</td>\n",
       "      <td>Brazil</td>\n",
       "    </tr>\n",
       "  </tbody>\n",
       "</table>\n",
       "</div>"
      ],
      "text/plain": [
       "                                                                                                    image_path  \\\n",
       "3              /home/vsl333/cultural_values/datasets/cvqa_images/Brazil/public_figure_and_pop_culture/pele.jpg   \n",
       "30                      /home/vsl333/cultural_values/datasets/cvqa_images/France/tradition/french-republic.jpg   \n",
       "46                           /home/vsl333/cultural_values/datasets/cvqa_images/Nigeria/Brands/dangote-logo.png   \n",
       "44                       /home/vsl333/cultural_values/datasets/cvqa_images/Nigeria/Geography/Tinubu_Square.png   \n",
       "75  /home/vsl333/cultural_values/datasets/cvqa_images/Pakistan/Cooking_and_food/pakistain-food-beef-nihari.png   \n",
       "84                    /home/vsl333/cultural_values/datasets/cvqa_images/South Africa/Cooking_and_food/food.jpg   \n",
       "82    /home/vsl333/cultural_values/datasets/cvqa_images/South Africa/Objects/south-africa-object-chakalaka.jpg   \n",
       "81          /home/vsl333/cultural_values/datasets/cvqa_images/South Africa/People_and_everyday_life/people.jpg   \n",
       "78    /home/vsl333/cultural_values/datasets/cvqa_images/South Africa/tradition/south-africa-tradition-zulu.jpg   \n",
       "\n",
       "   prediction    gt_country      top-choice  \n",
       "3   Incorrect        Brazil         Nigeria  \n",
       "30  Incorrect        France  United Kingdom  \n",
       "46  Incorrect       Nigeria   United States  \n",
       "44  Incorrect       Nigeria          France  \n",
       "75  Incorrect      Pakistan          France  \n",
       "84  Incorrect  South Africa         Nigeria  \n",
       "82  Incorrect  South Africa          France  \n",
       "81  Incorrect  South Africa         Nigeria  \n",
       "78  Incorrect  South Africa          Brazil  "
      ]
     },
     "execution_count": 55,
     "metadata": {},
     "output_type": "execute_result"
    }
   ],
   "source": [
    "inaccurate_df = accurate_img_df[accurate_img_df[\"prediction\"] == \"Incorrect\"]\n",
    "print(f\"shape: {inaccurate_df.shape}\")\n",
    "inaccurate_df.tail(25)"
   ]
  },
  {
   "cell_type": "markdown",
   "metadata": {},
   "source": [
    "### Create new subdirectory for each incorrect one"
   ]
  },
  {
   "cell_type": "code",
   "execution_count": 56,
   "metadata": {},
   "outputs": [
    {
     "name": "stderr",
     "output_type": "stream",
     "text": [
      " 78%|███████▊  | 7/9 [00:00<00:00, 64.59it/s]"
     ]
    },
    {
     "name": "stdout",
     "output_type": "stream",
     "text": [
      "Copying /home/vsl333/cultural_values/datasets/cvqa_images/Brazil/public_figure_and_pop_culture/pele.jpg to Brazil/public_figure_and_pop_culture\n",
      "Copying /home/vsl333/cultural_values/datasets/cvqa_images/France/tradition/french-republic.jpg to France/tradition\n",
      "Copying /home/vsl333/cultural_values/datasets/cvqa_images/Nigeria/Brands/dangote-logo.png to Nigeria/Brands\n",
      "Copying /home/vsl333/cultural_values/datasets/cvqa_images/Nigeria/Geography/Tinubu_Square.png to Nigeria/Geography\n",
      "Copying /home/vsl333/cultural_values/datasets/cvqa_images/Pakistan/Cooking_and_food/pakistain-food-beef-nihari.png to Pakistan/Cooking_and_food\n",
      "Copying /home/vsl333/cultural_values/datasets/cvqa_images/South Africa/Cooking_and_food/food.jpg to South Africa/Cooking_and_food\n",
      "Copying /home/vsl333/cultural_values/datasets/cvqa_images/South Africa/Objects/south-africa-object-chakalaka.jpg to South Africa/Objects\n",
      "Copying /home/vsl333/cultural_values/datasets/cvqa_images/South Africa/People_and_everyday_life/people.jpg to South Africa/People_and_everyday_life\n",
      "Copying /home/vsl333/cultural_values/datasets/cvqa_images/South Africa/tradition/south-africa-tradition-zulu.jpg to South Africa/tradition\n"
     ]
    },
    {
     "name": "stderr",
     "output_type": "stream",
     "text": [
      "100%|██████████| 9/9 [00:00<00:00, 35.83it/s]\n"
     ]
    }
   ],
   "source": [
    "from tqdm import tqdm\n",
    "import shutil\n",
    "\n",
    "incorrect_predictions_folder = Path(\"/home/vsl333/cultural_values/datasets/cvqa_incorrect_predictions\")\n",
    "if incorrect_predictions_folder.exists():\n",
    "    shutil.rmtree(incorrect_predictions_folder)\n",
    "incorrect_predictions_folder.mkdir(exist_ok=True, parents=True)\n",
    "\n",
    "# images will be saved in inaccurate_df['image_path].split(\"/\")[-3] folder - country name, inaccurate_df['image_path].split(\"/\")[-2] - category name\n",
    "for idx, row in tqdm(inaccurate_df.iterrows(), total=inaccurate_df.shape[0]):\n",
    "    image_path = Path(row[\"image_path\"])\n",
    "    country_name = image_path.parts[-3]\n",
    "    category_name = image_path.parts[-2]\n",
    "    \n",
    "    print(f\"Copying {image_path} to {country_name}/{category_name}\")\n",
    "    new_folder = incorrect_predictions_folder / country_name / category_name\n",
    "    new_folder.mkdir(exist_ok=True, parents=True)\n",
    "    \n",
    "    url_file = image_path.parent / \"url.txt\"\n",
    "    shutil.copy(image_path, new_folder)\n",
    "    shutil.copy(url_file, new_folder)"
   ]
  },
  {
   "cell_type": "code",
   "execution_count": null,
   "metadata": {},
   "outputs": [],
   "source": []
  }
 ],
 "metadata": {
  "kernelspec": {
   "display_name": "culture-values",
   "language": "python",
   "name": "python3"
  },
  "language_info": {
   "codemirror_mode": {
    "name": "ipython",
    "version": 3
   },
   "file_extension": ".py",
   "mimetype": "text/x-python",
   "name": "python",
   "nbconvert_exporter": "python",
   "pygments_lexer": "ipython3",
   "version": "3.9.9"
  }
 },
 "nbformat": 4,
 "nbformat_minor": 2
}
